{
 "cells": [
  {
   "cell_type": "markdown",
   "metadata": {},
   "source": [
    "## Library"
   ]
  },
  {
   "cell_type": "markdown",
   "metadata": {},
   "source": [
    "Kumpulan library yang digunakan untuk membantu"
   ]
  },
  {
   "cell_type": "code",
   "execution_count": 52,
   "metadata": {},
   "outputs": [],
   "source": [
    "import pandas as pd\n",
    "import numpy as np\n",
    "import seaborn as sns\n",
    "from scipy import stats\n",
    "import matplotlib.pyplot as plt\n",
    "from sklearn.linear_model import LogisticRegression\n",
    "import statsmodels.api as sm\n",
    "from sklearn.model_selection import train_test_split\n",
    "from sklearn import metrics\n",
    "from sklearn.metrics import roc_auc_score"
   ]
  },
  {
   "cell_type": "markdown",
   "metadata": {},
   "source": [
    "## Information Data"
   ]
  },
  {
   "cell_type": "markdown",
   "metadata": {},
   "source": [
    "Data berisi informasi terkait pelanggan kartu kredit di suatu negara pada periode Januari-Maret 2015. Informasi meliputi latar belakang pelanggan, jumlah tagihan, jumlah pembayaran, lama terlambat bayar dan status pembayaran bulan berikutnya (April 2015)."
   ]
  },
  {
   "cell_type": "markdown",
   "metadata": {},
   "source": [
    "## Tujuan"
   ]
  },
  {
   "cell_type": "markdown",
   "metadata": {},
   "source": [
    "Memprediksi apakah pelanggan kartu kredit beresiko terlambat bayar pada bulan Mei berdasarkan data pada bulan Februari-April 2015 pada data testing."
   ]
  },
  {
   "cell_type": "markdown",
   "metadata": {},
   "source": [
    "## Deskripsi Feature"
   ]
  },
  {
   "cell_type": "markdown",
   "metadata": {},
   "source": [
    "Terdapat 16 peubah yang terdiri dari ID, 14 prediktor dan 1 target."
   ]
  },
  {
   "cell_type": "markdown",
   "metadata": {},
   "source": [
    "1. ID Nomor-urut\n",
    "                                                character\n",
    "2. AGE Umur\n",
    "                                                Kontinyu(tahun)\n",
    "3. LIMIT_BAL-Batas maksimal kredit\n",
    "                                                Kontinyu(USD)\n",
    "4. EDUCATION-Tingkat pendidikan \n",
    "                                                Kategorik\n",
    "                                                1: S2/S3\n",
    "                                                2: Dipl/S1\n",
    "                                                3: SMA\n",
    "                                                4: Lainnya\n",
    "5. MARRIAGE-Status pernikahan \n",
    "                                                Kategorik\n",
    "                                                1: Belum Menikah\n",
    "                                                2: Menikah\n",
    "                                                3: Lainnya\n",
    "6. SEX-kelamin \n",
    "                                                Kategorik\n",
    "                                                1: Pria\n",
    "                                                2: Wanita\n",
    "7. PAY_1 … 3-Tepat waktu? \n",
    "                                                Kategorik\n",
    "                                                0: Tepat waktu\n",
    "                                                1: Terlambat 1 bulan, dst\n",
    "8. BILL_AMT1 … 3-Tagihan kredit \n",
    "                                                Kontinyu (USD)\n",
    "9. PAY_AMT1 …3-Yang dibayarkan \n",
    "                                                Kontinyu (USD)\n",
    "10. TARGET-Terlambat? \n",
    "                                                Kategorik\n",
    "                                                1: Terlambat\n",
    "                                                0: Tidak terlambat"
   ]
  },
  {
   "cell_type": "markdown",
   "metadata": {},
   "source": [
    "## Read Data "
   ]
  },
  {
   "cell_type": "markdown",
   "metadata": {},
   "source": [
    "Tahap untuk membaca data yang berformat .csv"
   ]
  },
  {
   "cell_type": "code",
   "execution_count": 53,
   "metadata": {},
   "outputs": [],
   "source": [
    "df_data = pd.read_csv('training.csv',index_col='ID')\n",
    "df_test = pd.read_csv('testing.csv',delimiter=';',index_col='ID')"
   ]
  },
  {
   "cell_type": "code",
   "execution_count": 54,
   "metadata": {},
   "outputs": [
    {
     "data": {
      "text/plain": [
       "(16625, 15)"
      ]
     },
     "execution_count": 54,
     "metadata": {},
     "output_type": "execute_result"
    }
   ],
   "source": [
    "df_data.shape"
   ]
  },
  {
   "cell_type": "code",
   "execution_count": 55,
   "metadata": {},
   "outputs": [],
   "source": [
    "df = pd.concat([df_data,df_test])"
   ]
  },
  {
   "cell_type": "code",
   "execution_count": 56,
   "metadata": {},
   "outputs": [
    {
     "data": {
      "text/plain": [
       "(33250, 15)"
      ]
     },
     "execution_count": 56,
     "metadata": {},
     "output_type": "execute_result"
    }
   ],
   "source": [
    "df.shape"
   ]
  },
  {
   "cell_type": "markdown",
   "metadata": {},
   "source": [
    "## EDA (Exploratory Data Analysis)"
   ]
  },
  {
   "cell_type": "markdown",
   "metadata": {},
   "source": [
    "Melakukan proses EDA terhadap data credit score."
   ]
  },
  {
   "cell_type": "markdown",
   "metadata": {},
   "source": [
    "#### a. Memisahkan beberapa data dengan aturan kartu kredit"
   ]
  },
  {
   "cell_type": "markdown",
   "metadata": {},
   "source": [
    "Pada umumnya, bank penerbit kartu kredit memberlakukan beberapa syarat utama untuk pengajuan kartu kredit, di antaranya adalah:\n",
    "\n",
    "1. Penghasilan minimum setahun: Rp 36 juta\n",
    "\n",
    "2. Usia minimum pemegang kartu utama: 21 tahun\n",
    "\n",
    "3. Usia minimum pemegang kartu tambahan: 17 tahun\n",
    "\n",
    "4. Usia maksimum: 65 tahun\n",
    "\n",
    "ref: [link](https://www.pilihkartu.com/informasi-kartu-kredit/batas-usia-minimal-memiliki-kartu-kredit)"
   ]
  },
  {
   "cell_type": "code",
   "execution_count": 57,
   "metadata": {},
   "outputs": [],
   "source": [
    "df_age = df[(df.AGE <= 65) & (df.AGE >=21)]"
   ]
  },
  {
   "cell_type": "code",
   "execution_count": 58,
   "metadata": {},
   "outputs": [
    {
     "data": {
      "text/html": [
       "<div>\n",
       "<style scoped>\n",
       "    .dataframe tbody tr th:only-of-type {\n",
       "        vertical-align: middle;\n",
       "    }\n",
       "\n",
       "    .dataframe tbody tr th {\n",
       "        vertical-align: top;\n",
       "    }\n",
       "\n",
       "    .dataframe thead th {\n",
       "        text-align: right;\n",
       "    }\n",
       "</style>\n",
       "<table border=\"1\" class=\"dataframe\">\n",
       "  <thead>\n",
       "    <tr style=\"text-align: right;\">\n",
       "      <th></th>\n",
       "      <th>AGE</th>\n",
       "      <th>BILL_AMT1</th>\n",
       "      <th>BILL_AMT2</th>\n",
       "      <th>BILL_AMT3</th>\n",
       "      <th>EDUCATION</th>\n",
       "      <th>LIMIT_BAL</th>\n",
       "      <th>MARRIAGE</th>\n",
       "      <th>PAY_1</th>\n",
       "      <th>PAY_2</th>\n",
       "      <th>PAY_3</th>\n",
       "      <th>PAY_AMT1</th>\n",
       "      <th>PAY_AMT2</th>\n",
       "      <th>PAY_AMT3</th>\n",
       "      <th>SEX</th>\n",
       "      <th>TARGET</th>\n",
       "    </tr>\n",
       "    <tr>\n",
       "      <th>ID</th>\n",
       "      <th></th>\n",
       "      <th></th>\n",
       "      <th></th>\n",
       "      <th></th>\n",
       "      <th></th>\n",
       "      <th></th>\n",
       "      <th></th>\n",
       "      <th></th>\n",
       "      <th></th>\n",
       "      <th></th>\n",
       "      <th></th>\n",
       "      <th></th>\n",
       "      <th></th>\n",
       "      <th></th>\n",
       "      <th></th>\n",
       "    </tr>\n",
       "  </thead>\n",
       "  <tbody>\n",
       "    <tr>\n",
       "      <th>1</th>\n",
       "      <td>40</td>\n",
       "      <td>24430.0</td>\n",
       "      <td>23881.0</td>\n",
       "      <td>24234.0</td>\n",
       "      <td>1</td>\n",
       "      <td>30000.0</td>\n",
       "      <td>1</td>\n",
       "      <td>0</td>\n",
       "      <td>0</td>\n",
       "      <td>0</td>\n",
       "      <td>1600.0</td>\n",
       "      <td>1287.0</td>\n",
       "      <td>1296.0</td>\n",
       "      <td>2</td>\n",
       "      <td>NaN</td>\n",
       "    </tr>\n",
       "  </tbody>\n",
       "</table>\n",
       "</div>"
      ],
      "text/plain": [
       "    AGE  BILL_AMT1  BILL_AMT2  BILL_AMT3  EDUCATION  LIMIT_BAL  MARRIAGE  \\\n",
       "ID                                                                         \n",
       "1    40    24430.0    23881.0    24234.0          1    30000.0         1   \n",
       "\n",
       "    PAY_1  PAY_2  PAY_3  PAY_AMT1  PAY_AMT2  PAY_AMT3  SEX  TARGET  \n",
       "ID                                                                  \n",
       "1       0      0      0    1600.0    1287.0    1296.0    2     NaN  "
      ]
     },
     "execution_count": 58,
     "metadata": {},
     "output_type": "execute_result"
    }
   ],
   "source": [
    "df_age[16534:16535]"
   ]
  },
  {
   "cell_type": "code",
   "execution_count": 59,
   "metadata": {},
   "outputs": [
    {
     "data": {
      "text/html": [
       "<div>\n",
       "<style scoped>\n",
       "    .dataframe tbody tr th:only-of-type {\n",
       "        vertical-align: middle;\n",
       "    }\n",
       "\n",
       "    .dataframe tbody tr th {\n",
       "        vertical-align: top;\n",
       "    }\n",
       "\n",
       "    .dataframe thead th {\n",
       "        text-align: right;\n",
       "    }\n",
       "</style>\n",
       "<table border=\"1\" class=\"dataframe\">\n",
       "  <thead>\n",
       "    <tr style=\"text-align: right;\">\n",
       "      <th></th>\n",
       "      <th>AGE</th>\n",
       "      <th>BILL_AMT1</th>\n",
       "      <th>BILL_AMT2</th>\n",
       "      <th>BILL_AMT3</th>\n",
       "      <th>EDUCATION</th>\n",
       "      <th>LIMIT_BAL</th>\n",
       "      <th>MARRIAGE</th>\n",
       "      <th>PAY_1</th>\n",
       "      <th>PAY_2</th>\n",
       "      <th>PAY_3</th>\n",
       "      <th>PAY_AMT1</th>\n",
       "      <th>PAY_AMT2</th>\n",
       "      <th>PAY_AMT3</th>\n",
       "      <th>SEX</th>\n",
       "      <th>TARGET</th>\n",
       "    </tr>\n",
       "    <tr>\n",
       "      <th>ID</th>\n",
       "      <th></th>\n",
       "      <th></th>\n",
       "      <th></th>\n",
       "      <th></th>\n",
       "      <th></th>\n",
       "      <th></th>\n",
       "      <th></th>\n",
       "      <th></th>\n",
       "      <th></th>\n",
       "      <th></th>\n",
       "      <th></th>\n",
       "      <th></th>\n",
       "      <th></th>\n",
       "      <th></th>\n",
       "      <th></th>\n",
       "    </tr>\n",
       "  </thead>\n",
       "  <tbody>\n",
       "    <tr>\n",
       "      <th>1</th>\n",
       "      <td>40</td>\n",
       "      <td>24607.0</td>\n",
       "      <td>24430.0</td>\n",
       "      <td>23881.0</td>\n",
       "      <td>1</td>\n",
       "      <td>30000.0</td>\n",
       "      <td>1</td>\n",
       "      <td>0</td>\n",
       "      <td>0</td>\n",
       "      <td>0</td>\n",
       "      <td>1700.0</td>\n",
       "      <td>1600.0</td>\n",
       "      <td>1287.0</td>\n",
       "      <td>2</td>\n",
       "      <td>0.0</td>\n",
       "    </tr>\n",
       "    <tr>\n",
       "      <th>2</th>\n",
       "      <td>41</td>\n",
       "      <td>17040.0</td>\n",
       "      <td>16474.0</td>\n",
       "      <td>17203.0</td>\n",
       "      <td>1</td>\n",
       "      <td>20000.0</td>\n",
       "      <td>1</td>\n",
       "      <td>1</td>\n",
       "      <td>2</td>\n",
       "      <td>0</td>\n",
       "      <td>0.0</td>\n",
       "      <td>1300.0</td>\n",
       "      <td>1500.0</td>\n",
       "      <td>2</td>\n",
       "      <td>0.0</td>\n",
       "    </tr>\n",
       "    <tr>\n",
       "      <th>3</th>\n",
       "      <td>36</td>\n",
       "      <td>17332.0</td>\n",
       "      <td>18600.0</td>\n",
       "      <td>17947.0</td>\n",
       "      <td>1</td>\n",
       "      <td>20000.0</td>\n",
       "      <td>1</td>\n",
       "      <td>0</td>\n",
       "      <td>0</td>\n",
       "      <td>0</td>\n",
       "      <td>1580.0</td>\n",
       "      <td>1367.0</td>\n",
       "      <td>1178.0</td>\n",
       "      <td>2</td>\n",
       "      <td>0.0</td>\n",
       "    </tr>\n",
       "    <tr>\n",
       "      <th>4</th>\n",
       "      <td>35</td>\n",
       "      <td>2003.0</td>\n",
       "      <td>2948.0</td>\n",
       "      <td>3372.0</td>\n",
       "      <td>1</td>\n",
       "      <td>20000.0</td>\n",
       "      <td>1</td>\n",
       "      <td>0</td>\n",
       "      <td>0</td>\n",
       "      <td>0</td>\n",
       "      <td>1086.0</td>\n",
       "      <td>1000.0</td>\n",
       "      <td>0.0</td>\n",
       "      <td>2</td>\n",
       "      <td>0.0</td>\n",
       "    </tr>\n",
       "    <tr>\n",
       "      <th>5</th>\n",
       "      <td>38</td>\n",
       "      <td>171465.0</td>\n",
       "      <td>145196.0</td>\n",
       "      <td>110163.0</td>\n",
       "      <td>1</td>\n",
       "      <td>170000.0</td>\n",
       "      <td>1</td>\n",
       "      <td>0</td>\n",
       "      <td>0</td>\n",
       "      <td>0</td>\n",
       "      <td>18500.0</td>\n",
       "      <td>13998.0</td>\n",
       "      <td>3760.0</td>\n",
       "      <td>2</td>\n",
       "      <td>0.0</td>\n",
       "    </tr>\n",
       "  </tbody>\n",
       "</table>\n",
       "</div>"
      ],
      "text/plain": [
       "    AGE  BILL_AMT1  BILL_AMT2  BILL_AMT3  EDUCATION  LIMIT_BAL  MARRIAGE  \\\n",
       "ID                                                                         \n",
       "1    40    24607.0    24430.0    23881.0          1    30000.0         1   \n",
       "2    41    17040.0    16474.0    17203.0          1    20000.0         1   \n",
       "3    36    17332.0    18600.0    17947.0          1    20000.0         1   \n",
       "4    35     2003.0     2948.0     3372.0          1    20000.0         1   \n",
       "5    38   171465.0   145196.0   110163.0          1   170000.0         1   \n",
       "\n",
       "    PAY_1  PAY_2  PAY_3  PAY_AMT1  PAY_AMT2  PAY_AMT3  SEX  TARGET  \n",
       "ID                                                                  \n",
       "1       0      0      0    1700.0    1600.0    1287.0    2     0.0  \n",
       "2       1      2      0       0.0    1300.0    1500.0    2     0.0  \n",
       "3       0      0      0    1580.0    1367.0    1178.0    2     0.0  \n",
       "4       0      0      0    1086.0    1000.0       0.0    2     0.0  \n",
       "5       0      0      0   18500.0   13998.0    3760.0    2     0.0  "
      ]
     },
     "execution_count": 59,
     "metadata": {},
     "output_type": "execute_result"
    }
   ],
   "source": [
    "df_age.head()"
   ]
  },
  {
   "cell_type": "code",
   "execution_count": 60,
   "metadata": {},
   "outputs": [
    {
     "data": {
      "text/html": [
       "<div>\n",
       "<style scoped>\n",
       "    .dataframe tbody tr th:only-of-type {\n",
       "        vertical-align: middle;\n",
       "    }\n",
       "\n",
       "    .dataframe tbody tr th {\n",
       "        vertical-align: top;\n",
       "    }\n",
       "\n",
       "    .dataframe thead th {\n",
       "        text-align: right;\n",
       "    }\n",
       "</style>\n",
       "<table border=\"1\" class=\"dataframe\">\n",
       "  <thead>\n",
       "    <tr style=\"text-align: right;\">\n",
       "      <th></th>\n",
       "      <th>AGE</th>\n",
       "      <th>BILL_AMT1</th>\n",
       "      <th>BILL_AMT2</th>\n",
       "      <th>BILL_AMT3</th>\n",
       "      <th>EDUCATION</th>\n",
       "      <th>LIMIT_BAL</th>\n",
       "      <th>MARRIAGE</th>\n",
       "      <th>PAY_1</th>\n",
       "      <th>PAY_2</th>\n",
       "      <th>PAY_3</th>\n",
       "      <th>PAY_AMT1</th>\n",
       "      <th>PAY_AMT2</th>\n",
       "      <th>PAY_AMT3</th>\n",
       "      <th>SEX</th>\n",
       "      <th>TARGET</th>\n",
       "    </tr>\n",
       "    <tr>\n",
       "      <th>ID</th>\n",
       "      <th></th>\n",
       "      <th></th>\n",
       "      <th></th>\n",
       "      <th></th>\n",
       "      <th></th>\n",
       "      <th></th>\n",
       "      <th></th>\n",
       "      <th></th>\n",
       "      <th></th>\n",
       "      <th></th>\n",
       "      <th></th>\n",
       "      <th></th>\n",
       "      <th></th>\n",
       "      <th></th>\n",
       "      <th></th>\n",
       "    </tr>\n",
       "  </thead>\n",
       "  <tbody>\n",
       "    <tr>\n",
       "      <th>16621</th>\n",
       "      <td>56</td>\n",
       "      <td>2500.0</td>\n",
       "      <td>2500.0</td>\n",
       "      <td>2500.0</td>\n",
       "      <td>2</td>\n",
       "      <td>350000.0</td>\n",
       "      <td>1</td>\n",
       "      <td>2</td>\n",
       "      <td>2</td>\n",
       "      <td>2</td>\n",
       "      <td>0.0</td>\n",
       "      <td>0.0</td>\n",
       "      <td>0.0</td>\n",
       "      <td>1</td>\n",
       "      <td>NaN</td>\n",
       "    </tr>\n",
       "    <tr>\n",
       "      <th>16622</th>\n",
       "      <td>60</td>\n",
       "      <td>77708.0</td>\n",
       "      <td>79384.0</td>\n",
       "      <td>77519.0</td>\n",
       "      <td>2</td>\n",
       "      <td>380000.0</td>\n",
       "      <td>2</td>\n",
       "      <td>2</td>\n",
       "      <td>2</td>\n",
       "      <td>2</td>\n",
       "      <td>3500.0</td>\n",
       "      <td>0.0</td>\n",
       "      <td>7000.0</td>\n",
       "      <td>1</td>\n",
       "      <td>NaN</td>\n",
       "    </tr>\n",
       "    <tr>\n",
       "      <th>16623</th>\n",
       "      <td>56</td>\n",
       "      <td>3356.0</td>\n",
       "      <td>2758.0</td>\n",
       "      <td>20878.0</td>\n",
       "      <td>2</td>\n",
       "      <td>340000.0</td>\n",
       "      <td>2</td>\n",
       "      <td>3</td>\n",
       "      <td>2</td>\n",
       "      <td>0</td>\n",
       "      <td>0.0</td>\n",
       "      <td>22000.0</td>\n",
       "      <td>4200.0</td>\n",
       "      <td>1</td>\n",
       "      <td>NaN</td>\n",
       "    </tr>\n",
       "    <tr>\n",
       "      <th>16624</th>\n",
       "      <td>61</td>\n",
       "      <td>78379.0</td>\n",
       "      <td>76304.0</td>\n",
       "      <td>52774.0</td>\n",
       "      <td>1</td>\n",
       "      <td>430000.0</td>\n",
       "      <td>1</td>\n",
       "      <td>0</td>\n",
       "      <td>0</td>\n",
       "      <td>0</td>\n",
       "      <td>3409.0</td>\n",
       "      <td>1178.0</td>\n",
       "      <td>1926.0</td>\n",
       "      <td>1</td>\n",
       "      <td>NaN</td>\n",
       "    </tr>\n",
       "    <tr>\n",
       "      <th>16625</th>\n",
       "      <td>61</td>\n",
       "      <td>48905.0</td>\n",
       "      <td>49764.0</td>\n",
       "      <td>36535.0</td>\n",
       "      <td>2</td>\n",
       "      <td>410000.0</td>\n",
       "      <td>1</td>\n",
       "      <td>0</td>\n",
       "      <td>0</td>\n",
       "      <td>0</td>\n",
       "      <td>1800.0</td>\n",
       "      <td>1430.0</td>\n",
       "      <td>1000.0</td>\n",
       "      <td>1</td>\n",
       "      <td>NaN</td>\n",
       "    </tr>\n",
       "  </tbody>\n",
       "</table>\n",
       "</div>"
      ],
      "text/plain": [
       "       AGE  BILL_AMT1  BILL_AMT2  BILL_AMT3  EDUCATION  LIMIT_BAL  MARRIAGE  \\\n",
       "ID                                                                            \n",
       "16621   56     2500.0     2500.0     2500.0          2   350000.0         1   \n",
       "16622   60    77708.0    79384.0    77519.0          2   380000.0         2   \n",
       "16623   56     3356.0     2758.0    20878.0          2   340000.0         2   \n",
       "16624   61    78379.0    76304.0    52774.0          1   430000.0         1   \n",
       "16625   61    48905.0    49764.0    36535.0          2   410000.0         1   \n",
       "\n",
       "       PAY_1  PAY_2  PAY_3  PAY_AMT1  PAY_AMT2  PAY_AMT3  SEX  TARGET  \n",
       "ID                                                                     \n",
       "16621      2      2      2       0.0       0.0       0.0    1     NaN  \n",
       "16622      2      2      2    3500.0       0.0    7000.0    1     NaN  \n",
       "16623      3      2      0       0.0   22000.0    4200.0    1     NaN  \n",
       "16624      0      0      0    3409.0    1178.0    1926.0    1     NaN  \n",
       "16625      0      0      0    1800.0    1430.0    1000.0    1     NaN  "
      ]
     },
     "execution_count": 60,
     "metadata": {},
     "output_type": "execute_result"
    }
   ],
   "source": [
    "df_age.tail()"
   ]
  },
  {
   "cell_type": "code",
   "execution_count": 61,
   "metadata": {},
   "outputs": [
    {
     "data": {
      "text/html": [
       "<div>\n",
       "<style scoped>\n",
       "    .dataframe tbody tr th:only-of-type {\n",
       "        vertical-align: middle;\n",
       "    }\n",
       "\n",
       "    .dataframe tbody tr th {\n",
       "        vertical-align: top;\n",
       "    }\n",
       "\n",
       "    .dataframe thead th {\n",
       "        text-align: right;\n",
       "    }\n",
       "</style>\n",
       "<table border=\"1\" class=\"dataframe\">\n",
       "  <thead>\n",
       "    <tr style=\"text-align: right;\">\n",
       "      <th></th>\n",
       "      <th>AGE</th>\n",
       "      <th>BILL_AMT1</th>\n",
       "      <th>BILL_AMT2</th>\n",
       "      <th>BILL_AMT3</th>\n",
       "      <th>EDUCATION</th>\n",
       "      <th>LIMIT_BAL</th>\n",
       "      <th>MARRIAGE</th>\n",
       "      <th>PAY_1</th>\n",
       "      <th>PAY_2</th>\n",
       "      <th>PAY_3</th>\n",
       "      <th>PAY_AMT1</th>\n",
       "      <th>PAY_AMT2</th>\n",
       "      <th>PAY_AMT3</th>\n",
       "      <th>SEX</th>\n",
       "      <th>TARGET</th>\n",
       "    </tr>\n",
       "  </thead>\n",
       "  <tbody>\n",
       "    <tr>\n",
       "      <th>count</th>\n",
       "      <td>33068.000000</td>\n",
       "      <td>33068.000000</td>\n",
       "      <td>33068.000000</td>\n",
       "      <td>33068.000000</td>\n",
       "      <td>33068.000000</td>\n",
       "      <td>33068.000000</td>\n",
       "      <td>33068.000000</td>\n",
       "      <td>33068.000000</td>\n",
       "      <td>33068.000000</td>\n",
       "      <td>33068.000000</td>\n",
       "      <td>33068.000000</td>\n",
       "      <td>33068.000000</td>\n",
       "      <td>33068.000000</td>\n",
       "      <td>33068.000000</td>\n",
       "      <td>16534.000000</td>\n",
       "    </tr>\n",
       "    <tr>\n",
       "      <th>mean</th>\n",
       "      <td>43.248579</td>\n",
       "      <td>49768.101972</td>\n",
       "      <td>47650.053587</td>\n",
       "      <td>44729.166233</td>\n",
       "      <td>2.116971</td>\n",
       "      <td>156867.424701</td>\n",
       "      <td>1.476836</td>\n",
       "      <td>0.453308</td>\n",
       "      <td>0.410941</td>\n",
       "      <td>0.364522</td>\n",
       "      <td>5086.058546</td>\n",
       "      <td>4910.242107</td>\n",
       "      <td>4573.060451</td>\n",
       "      <td>1.589392</td>\n",
       "      <td>0.395972</td>\n",
       "    </tr>\n",
       "    <tr>\n",
       "      <th>std</th>\n",
       "      <td>8.621623</td>\n",
       "      <td>72039.111648</td>\n",
       "      <td>69465.136465</td>\n",
       "      <td>65927.409231</td>\n",
       "      <td>0.791424</td>\n",
       "      <td>124718.035605</td>\n",
       "      <td>0.523476</td>\n",
       "      <td>0.856592</td>\n",
       "      <td>0.865090</td>\n",
       "      <td>0.829821</td>\n",
       "      <td>14986.632795</td>\n",
       "      <td>15295.345787</td>\n",
       "      <td>14570.844023</td>\n",
       "      <td>0.491952</td>\n",
       "      <td>0.489073</td>\n",
       "    </tr>\n",
       "    <tr>\n",
       "      <th>min</th>\n",
       "      <td>21.000000</td>\n",
       "      <td>-165580.000000</td>\n",
       "      <td>-69777.000000</td>\n",
       "      <td>-65167.000000</td>\n",
       "      <td>1.000000</td>\n",
       "      <td>0.000000</td>\n",
       "      <td>1.000000</td>\n",
       "      <td>0.000000</td>\n",
       "      <td>0.000000</td>\n",
       "      <td>0.000000</td>\n",
       "      <td>0.000000</td>\n",
       "      <td>0.000000</td>\n",
       "      <td>0.000000</td>\n",
       "      <td>1.000000</td>\n",
       "      <td>0.000000</td>\n",
       "    </tr>\n",
       "    <tr>\n",
       "      <th>25%</th>\n",
       "      <td>37.000000</td>\n",
       "      <td>3260.000000</td>\n",
       "      <td>2799.500000</td>\n",
       "      <td>2446.750000</td>\n",
       "      <td>2.000000</td>\n",
       "      <td>50000.000000</td>\n",
       "      <td>1.000000</td>\n",
       "      <td>0.000000</td>\n",
       "      <td>0.000000</td>\n",
       "      <td>0.000000</td>\n",
       "      <td>505.750000</td>\n",
       "      <td>390.000000</td>\n",
       "      <td>214.750000</td>\n",
       "      <td>1.000000</td>\n",
       "      <td>0.000000</td>\n",
       "    </tr>\n",
       "    <tr>\n",
       "      <th>50%</th>\n",
       "      <td>42.000000</td>\n",
       "      <td>21476.500000</td>\n",
       "      <td>20386.000000</td>\n",
       "      <td>19509.000000</td>\n",
       "      <td>2.000000</td>\n",
       "      <td>120000.000000</td>\n",
       "      <td>1.000000</td>\n",
       "      <td>0.000000</td>\n",
       "      <td>0.000000</td>\n",
       "      <td>0.000000</td>\n",
       "      <td>2000.000000</td>\n",
       "      <td>1900.000000</td>\n",
       "      <td>1500.000000</td>\n",
       "      <td>2.000000</td>\n",
       "      <td>0.000000</td>\n",
       "    </tr>\n",
       "    <tr>\n",
       "      <th>75%</th>\n",
       "      <td>49.000000</td>\n",
       "      <td>64350.250000</td>\n",
       "      <td>60732.500000</td>\n",
       "      <td>56592.500000</td>\n",
       "      <td>3.000000</td>\n",
       "      <td>230000.000000</td>\n",
       "      <td>2.000000</td>\n",
       "      <td>0.000000</td>\n",
       "      <td>0.000000</td>\n",
       "      <td>0.000000</td>\n",
       "      <td>4881.250000</td>\n",
       "      <td>4360.000000</td>\n",
       "      <td>4000.000000</td>\n",
       "      <td>2.000000</td>\n",
       "      <td>1.000000</td>\n",
       "    </tr>\n",
       "    <tr>\n",
       "      <th>max</th>\n",
       "      <td>65.000000</td>\n",
       "      <td>746814.000000</td>\n",
       "      <td>693131.000000</td>\n",
       "      <td>693131.000000</td>\n",
       "      <td>4.000000</td>\n",
       "      <td>800000.000000</td>\n",
       "      <td>3.000000</td>\n",
       "      <td>4.000000</td>\n",
       "      <td>4.000000</td>\n",
       "      <td>4.000000</td>\n",
       "      <td>505000.000000</td>\n",
       "      <td>508229.000000</td>\n",
       "      <td>508229.000000</td>\n",
       "      <td>2.000000</td>\n",
       "      <td>1.000000</td>\n",
       "    </tr>\n",
       "  </tbody>\n",
       "</table>\n",
       "</div>"
      ],
      "text/plain": [
       "                AGE      BILL_AMT1      BILL_AMT2      BILL_AMT3  \\\n",
       "count  33068.000000   33068.000000   33068.000000   33068.000000   \n",
       "mean      43.248579   49768.101972   47650.053587   44729.166233   \n",
       "std        8.621623   72039.111648   69465.136465   65927.409231   \n",
       "min       21.000000 -165580.000000  -69777.000000  -65167.000000   \n",
       "25%       37.000000    3260.000000    2799.500000    2446.750000   \n",
       "50%       42.000000   21476.500000   20386.000000   19509.000000   \n",
       "75%       49.000000   64350.250000   60732.500000   56592.500000   \n",
       "max       65.000000  746814.000000  693131.000000  693131.000000   \n",
       "\n",
       "          EDUCATION      LIMIT_BAL      MARRIAGE         PAY_1         PAY_2  \\\n",
       "count  33068.000000   33068.000000  33068.000000  33068.000000  33068.000000   \n",
       "mean       2.116971  156867.424701      1.476836      0.453308      0.410941   \n",
       "std        0.791424  124718.035605      0.523476      0.856592      0.865090   \n",
       "min        1.000000       0.000000      1.000000      0.000000      0.000000   \n",
       "25%        2.000000   50000.000000      1.000000      0.000000      0.000000   \n",
       "50%        2.000000  120000.000000      1.000000      0.000000      0.000000   \n",
       "75%        3.000000  230000.000000      2.000000      0.000000      0.000000   \n",
       "max        4.000000  800000.000000      3.000000      4.000000      4.000000   \n",
       "\n",
       "              PAY_3       PAY_AMT1       PAY_AMT2       PAY_AMT3  \\\n",
       "count  33068.000000   33068.000000   33068.000000   33068.000000   \n",
       "mean       0.364522    5086.058546    4910.242107    4573.060451   \n",
       "std        0.829821   14986.632795   15295.345787   14570.844023   \n",
       "min        0.000000       0.000000       0.000000       0.000000   \n",
       "25%        0.000000     505.750000     390.000000     214.750000   \n",
       "50%        0.000000    2000.000000    1900.000000    1500.000000   \n",
       "75%        0.000000    4881.250000    4360.000000    4000.000000   \n",
       "max        4.000000  505000.000000  508229.000000  508229.000000   \n",
       "\n",
       "                SEX        TARGET  \n",
       "count  33068.000000  16534.000000  \n",
       "mean       1.589392      0.395972  \n",
       "std        0.491952      0.489073  \n",
       "min        1.000000      0.000000  \n",
       "25%        1.000000      0.000000  \n",
       "50%        2.000000      0.000000  \n",
       "75%        2.000000      1.000000  \n",
       "max        2.000000      1.000000  "
      ]
     },
     "execution_count": 61,
     "metadata": {},
     "output_type": "execute_result"
    }
   ],
   "source": [
    "df_age.describe()"
   ]
  },
  {
   "cell_type": "code",
   "execution_count": 62,
   "metadata": {},
   "outputs": [
    {
     "name": "stdout",
     "output_type": "stream",
     "text": [
      "<class 'pandas.core.frame.DataFrame'>\n",
      "Int64Index: 33068 entries, 1 to 16625\n",
      "Data columns (total 15 columns):\n",
      "AGE          33068 non-null int64\n",
      "BILL_AMT1    33068 non-null float64\n",
      "BILL_AMT2    33068 non-null float64\n",
      "BILL_AMT3    33068 non-null float64\n",
      "EDUCATION    33068 non-null int64\n",
      "LIMIT_BAL    33068 non-null float64\n",
      "MARRIAGE     33068 non-null int64\n",
      "PAY_1        33068 non-null int64\n",
      "PAY_2        33068 non-null int64\n",
      "PAY_3        33068 non-null int64\n",
      "PAY_AMT1     33068 non-null float64\n",
      "PAY_AMT2     33068 non-null float64\n",
      "PAY_AMT3     33068 non-null float64\n",
      "SEX          33068 non-null int64\n",
      "TARGET       16534 non-null float64\n",
      "dtypes: float64(8), int64(7)\n",
      "memory usage: 4.0 MB\n"
     ]
    }
   ],
   "source": [
    "df_age.info()"
   ]
  },
  {
   "cell_type": "markdown",
   "metadata": {},
   "source": [
    "### Change Type Column"
   ]
  },
  {
   "cell_type": "markdown",
   "metadata": {},
   "source": [
    "Melakukan perubahan pada tipe data beberapa kolom."
   ]
  },
  {
   "cell_type": "code",
   "execution_count": 63,
   "metadata": {},
   "outputs": [
    {
     "name": "stderr",
     "output_type": "stream",
     "text": [
      "C:\\Users\\tiorah064123\\AppData\\Local\\Continuum\\anaconda3\\lib\\site-packages\\ipykernel_launcher.py:1: SettingWithCopyWarning: \n",
      "A value is trying to be set on a copy of a slice from a DataFrame.\n",
      "Try using .loc[row_indexer,col_indexer] = value instead\n",
      "\n",
      "See the caveats in the documentation: http://pandas.pydata.org/pandas-docs/stable/indexing.html#indexing-view-versus-copy\n",
      "  \"\"\"Entry point for launching an IPython kernel.\n",
      "C:\\Users\\tiorah064123\\AppData\\Local\\Continuum\\anaconda3\\lib\\site-packages\\ipykernel_launcher.py:2: SettingWithCopyWarning: \n",
      "A value is trying to be set on a copy of a slice from a DataFrame.\n",
      "Try using .loc[row_indexer,col_indexer] = value instead\n",
      "\n",
      "See the caveats in the documentation: http://pandas.pydata.org/pandas-docs/stable/indexing.html#indexing-view-versus-copy\n",
      "  \n",
      "C:\\Users\\tiorah064123\\AppData\\Local\\Continuum\\anaconda3\\lib\\site-packages\\ipykernel_launcher.py:3: SettingWithCopyWarning: \n",
      "A value is trying to be set on a copy of a slice from a DataFrame.\n",
      "Try using .loc[row_indexer,col_indexer] = value instead\n",
      "\n",
      "See the caveats in the documentation: http://pandas.pydata.org/pandas-docs/stable/indexing.html#indexing-view-versus-copy\n",
      "  This is separate from the ipykernel package so we can avoid doing imports until\n",
      "C:\\Users\\tiorah064123\\AppData\\Local\\Continuum\\anaconda3\\lib\\site-packages\\ipykernel_launcher.py:4: SettingWithCopyWarning: \n",
      "A value is trying to be set on a copy of a slice from a DataFrame.\n",
      "Try using .loc[row_indexer,col_indexer] = value instead\n",
      "\n",
      "See the caveats in the documentation: http://pandas.pydata.org/pandas-docs/stable/indexing.html#indexing-view-versus-copy\n",
      "  after removing the cwd from sys.path.\n",
      "C:\\Users\\tiorah064123\\AppData\\Local\\Continuum\\anaconda3\\lib\\site-packages\\ipykernel_launcher.py:5: SettingWithCopyWarning: \n",
      "A value is trying to be set on a copy of a slice from a DataFrame.\n",
      "Try using .loc[row_indexer,col_indexer] = value instead\n",
      "\n",
      "See the caveats in the documentation: http://pandas.pydata.org/pandas-docs/stable/indexing.html#indexing-view-versus-copy\n",
      "  \"\"\"\n",
      "C:\\Users\\tiorah064123\\AppData\\Local\\Continuum\\anaconda3\\lib\\site-packages\\ipykernel_launcher.py:6: SettingWithCopyWarning: \n",
      "A value is trying to be set on a copy of a slice from a DataFrame.\n",
      "Try using .loc[row_indexer,col_indexer] = value instead\n",
      "\n",
      "See the caveats in the documentation: http://pandas.pydata.org/pandas-docs/stable/indexing.html#indexing-view-versus-copy\n",
      "  \n"
     ]
    }
   ],
   "source": [
    "df_age['EDUCATION'] = df_age['EDUCATION'].astype('str')\n",
    "df_age['MARRIAGE'] = df_age['MARRIAGE'].astype('str')\n",
    "df_age['PAY_1'] = df_age['PAY_1'].astype('str')\n",
    "df_age['PAY_2'] = df_age['PAY_2'].astype('str')\n",
    "df_age['PAY_3'] = df_age['PAY_3'].astype('str')\n",
    "df_age['SEX'] = df_age['SEX'].astype('str')"
   ]
  },
  {
   "cell_type": "markdown",
   "metadata": {},
   "source": [
    "### Categorical and Numerical List"
   ]
  },
  {
   "cell_type": "markdown",
   "metadata": {},
   "source": [
    "Melakukan pemisahan kolom yang memiliki tipe kategori dan numerik"
   ]
  },
  {
   "cell_type": "code",
   "execution_count": 64,
   "metadata": {},
   "outputs": [],
   "source": [
    "# Make a list for both of the data type\n",
    "categorical_list1 = []\n",
    "numerical_list1 = []\n",
    "\n",
    "def check_dtypes_1(df):\n",
    "    categorical_list = []\n",
    "    numerical_list = []\n",
    "\n",
    "    \n",
    "    '''\n",
    "    Parameters :\n",
    "    ------------\n",
    "    df : Dataframe name \n",
    "\n",
    "    Step :\n",
    "    ------\n",
    "    > 1. Do iteration for each feature to define which one categorical and nummerical feature. \n",
    "    > 2. Columns in dataframe will be seperated based on the dtypes\n",
    "    > 3. All of the column will be entered to the list that have been created\n",
    "\n",
    "    result :\n",
    "    --------\n",
    "    The result will be formed as dataframe\n",
    "    '''\n",
    "    #Looping \n",
    "    for col in df.columns.tolist():\n",
    "        if df[col].dtype=='object':\n",
    "            categorical_list.append(col)\n",
    "            categorical_list1.append(col)\n",
    "        else:\n",
    "            numerical_list.append(col)\n",
    "            numerical_list1.append(col)\n",
    "    \n",
    "    #make dataframe that have two feature, that is categorical and numerical feature\n",
    "    categorical = pd.Series(categorical_list, name='Categorical Feature')\n",
    "    numerical = pd.Series(numerical_list, name='Numerical Feature')\n",
    "    df_dtypes = pd.concat([categorical,numerical], axis=1)\n",
    "    \n",
    "    return df_dtypes"
   ]
  },
  {
   "cell_type": "code",
   "execution_count": 65,
   "metadata": {},
   "outputs": [
    {
     "data": {
      "text/html": [
       "<div>\n",
       "<style scoped>\n",
       "    .dataframe tbody tr th:only-of-type {\n",
       "        vertical-align: middle;\n",
       "    }\n",
       "\n",
       "    .dataframe tbody tr th {\n",
       "        vertical-align: top;\n",
       "    }\n",
       "\n",
       "    .dataframe thead th {\n",
       "        text-align: right;\n",
       "    }\n",
       "</style>\n",
       "<table border=\"1\" class=\"dataframe\">\n",
       "  <thead>\n",
       "    <tr style=\"text-align: right;\">\n",
       "      <th></th>\n",
       "      <th>Categorical Feature</th>\n",
       "      <th>Numerical Feature</th>\n",
       "    </tr>\n",
       "  </thead>\n",
       "  <tbody>\n",
       "    <tr>\n",
       "      <th>0</th>\n",
       "      <td>EDUCATION</td>\n",
       "      <td>AGE</td>\n",
       "    </tr>\n",
       "    <tr>\n",
       "      <th>1</th>\n",
       "      <td>MARRIAGE</td>\n",
       "      <td>BILL_AMT1</td>\n",
       "    </tr>\n",
       "    <tr>\n",
       "      <th>2</th>\n",
       "      <td>PAY_1</td>\n",
       "      <td>BILL_AMT2</td>\n",
       "    </tr>\n",
       "    <tr>\n",
       "      <th>3</th>\n",
       "      <td>PAY_2</td>\n",
       "      <td>BILL_AMT3</td>\n",
       "    </tr>\n",
       "    <tr>\n",
       "      <th>4</th>\n",
       "      <td>PAY_3</td>\n",
       "      <td>LIMIT_BAL</td>\n",
       "    </tr>\n",
       "    <tr>\n",
       "      <th>5</th>\n",
       "      <td>SEX</td>\n",
       "      <td>PAY_AMT1</td>\n",
       "    </tr>\n",
       "    <tr>\n",
       "      <th>6</th>\n",
       "      <td>NaN</td>\n",
       "      <td>PAY_AMT2</td>\n",
       "    </tr>\n",
       "    <tr>\n",
       "      <th>7</th>\n",
       "      <td>NaN</td>\n",
       "      <td>PAY_AMT3</td>\n",
       "    </tr>\n",
       "    <tr>\n",
       "      <th>8</th>\n",
       "      <td>NaN</td>\n",
       "      <td>TARGET</td>\n",
       "    </tr>\n",
       "  </tbody>\n",
       "</table>\n",
       "</div>"
      ],
      "text/plain": [
       "  Categorical Feature Numerical Feature\n",
       "0           EDUCATION               AGE\n",
       "1            MARRIAGE         BILL_AMT1\n",
       "2               PAY_1         BILL_AMT2\n",
       "3               PAY_2         BILL_AMT3\n",
       "4               PAY_3         LIMIT_BAL\n",
       "5                 SEX          PAY_AMT1\n",
       "6                 NaN          PAY_AMT2\n",
       "7                 NaN          PAY_AMT3\n",
       "8                 NaN            TARGET"
      ]
     },
     "execution_count": 65,
     "metadata": {},
     "output_type": "execute_result"
    }
   ],
   "source": [
    "check_dtypes_1(df_age)"
   ]
  },
  {
   "cell_type": "markdown",
   "metadata": {},
   "source": [
    "### Missing Value"
   ]
  },
  {
   "cell_type": "markdown",
   "metadata": {},
   "source": [
    "Mengecek missing value pada dataset"
   ]
  },
  {
   "cell_type": "code",
   "execution_count": 66,
   "metadata": {},
   "outputs": [],
   "source": [
    "# module Check missing value \n",
    "def missing_value(df):\n",
    "    '''\n",
    "    Documentation :\n",
    "    --------------\n",
    "    * df : Dataframe Name\n",
    "    '''\n",
    "    #count the number of missing value \n",
    "    total = df.isnull().sum().sort_values(ascending = False)\n",
    "    percent = round(df.isnull().sum()/len(df)*100,2).sort_values(ascending = False)\n",
    "    missing  = pd.concat([total, percent], axis=1, keys=['Total_Missing', 'Percent(%)'])\n",
    "    \n",
    "    return missing.head(20)"
   ]
  },
  {
   "cell_type": "code",
   "execution_count": 67,
   "metadata": {},
   "outputs": [
    {
     "data": {
      "text/html": [
       "<div>\n",
       "<style scoped>\n",
       "    .dataframe tbody tr th:only-of-type {\n",
       "        vertical-align: middle;\n",
       "    }\n",
       "\n",
       "    .dataframe tbody tr th {\n",
       "        vertical-align: top;\n",
       "    }\n",
       "\n",
       "    .dataframe thead th {\n",
       "        text-align: right;\n",
       "    }\n",
       "</style>\n",
       "<table border=\"1\" class=\"dataframe\">\n",
       "  <thead>\n",
       "    <tr style=\"text-align: right;\">\n",
       "      <th></th>\n",
       "      <th>Total_Missing</th>\n",
       "      <th>Percent(%)</th>\n",
       "    </tr>\n",
       "  </thead>\n",
       "  <tbody>\n",
       "    <tr>\n",
       "      <th>TARGET</th>\n",
       "      <td>16534</td>\n",
       "      <td>50.0</td>\n",
       "    </tr>\n",
       "    <tr>\n",
       "      <th>SEX</th>\n",
       "      <td>0</td>\n",
       "      <td>0.0</td>\n",
       "    </tr>\n",
       "    <tr>\n",
       "      <th>PAY_AMT3</th>\n",
       "      <td>0</td>\n",
       "      <td>0.0</td>\n",
       "    </tr>\n",
       "    <tr>\n",
       "      <th>PAY_AMT2</th>\n",
       "      <td>0</td>\n",
       "      <td>0.0</td>\n",
       "    </tr>\n",
       "    <tr>\n",
       "      <th>PAY_AMT1</th>\n",
       "      <td>0</td>\n",
       "      <td>0.0</td>\n",
       "    </tr>\n",
       "    <tr>\n",
       "      <th>PAY_3</th>\n",
       "      <td>0</td>\n",
       "      <td>0.0</td>\n",
       "    </tr>\n",
       "    <tr>\n",
       "      <th>PAY_2</th>\n",
       "      <td>0</td>\n",
       "      <td>0.0</td>\n",
       "    </tr>\n",
       "    <tr>\n",
       "      <th>PAY_1</th>\n",
       "      <td>0</td>\n",
       "      <td>0.0</td>\n",
       "    </tr>\n",
       "    <tr>\n",
       "      <th>MARRIAGE</th>\n",
       "      <td>0</td>\n",
       "      <td>0.0</td>\n",
       "    </tr>\n",
       "    <tr>\n",
       "      <th>LIMIT_BAL</th>\n",
       "      <td>0</td>\n",
       "      <td>0.0</td>\n",
       "    </tr>\n",
       "    <tr>\n",
       "      <th>EDUCATION</th>\n",
       "      <td>0</td>\n",
       "      <td>0.0</td>\n",
       "    </tr>\n",
       "    <tr>\n",
       "      <th>BILL_AMT3</th>\n",
       "      <td>0</td>\n",
       "      <td>0.0</td>\n",
       "    </tr>\n",
       "    <tr>\n",
       "      <th>BILL_AMT2</th>\n",
       "      <td>0</td>\n",
       "      <td>0.0</td>\n",
       "    </tr>\n",
       "    <tr>\n",
       "      <th>BILL_AMT1</th>\n",
       "      <td>0</td>\n",
       "      <td>0.0</td>\n",
       "    </tr>\n",
       "    <tr>\n",
       "      <th>AGE</th>\n",
       "      <td>0</td>\n",
       "      <td>0.0</td>\n",
       "    </tr>\n",
       "  </tbody>\n",
       "</table>\n",
       "</div>"
      ],
      "text/plain": [
       "           Total_Missing  Percent(%)\n",
       "TARGET             16534        50.0\n",
       "SEX                    0         0.0\n",
       "PAY_AMT3               0         0.0\n",
       "PAY_AMT2               0         0.0\n",
       "PAY_AMT1               0         0.0\n",
       "PAY_3                  0         0.0\n",
       "PAY_2                  0         0.0\n",
       "PAY_1                  0         0.0\n",
       "MARRIAGE               0         0.0\n",
       "LIMIT_BAL              0         0.0\n",
       "EDUCATION              0         0.0\n",
       "BILL_AMT3              0         0.0\n",
       "BILL_AMT2              0         0.0\n",
       "BILL_AMT1              0         0.0\n",
       "AGE                    0         0.0"
      ]
     },
     "execution_count": 67,
     "metadata": {},
     "output_type": "execute_result"
    }
   ],
   "source": [
    "missing_value(df_age)"
   ]
  },
  {
   "cell_type": "code",
   "execution_count": 68,
   "metadata": {},
   "outputs": [],
   "source": [
    "#Univariat Analisys\n",
    "def Univariate_plot(df, column, vartype, hue = None ):\n",
    "    '''\n",
    "    Documentation :\n",
    "    Univariate function will plot the graphs based on the parameters.\n",
    "    * df      : dataframe name\n",
    "    * column  : Column name\n",
    "    * vartype : variable type : continuos or categorical\n",
    "                (0) Continuos/Numerical   : Distribution, Violin & Boxplot will be plotted.\n",
    "                (1) Categorical           : Countplot will be plotted.\n",
    "    * hue     : It's only applicable for categorical analysis.\n",
    "    '''\n",
    "    sns.set(style=\"darkgrid\")\n",
    "      \n",
    "    if vartype == 0:\n",
    "        fig, ax=plt.subplots(nrows = 3, ncols=1,figsize=(12,12))\n",
    "        # Distribution Plot\n",
    "        ax[0].set_title(\"Distribution Plot\",fontsize = 10)\n",
    "        sns.distplot(df[column], kde=False, fit=stats.gamma, color='darkblue', label = column, ax=ax[0])\n",
    "        \n",
    "        # Violinplot \n",
    "        ax[1].set_title(\"Violin Plot\",fontsize = 10)\n",
    "        sns.violinplot(data= df, x=column, color = 'limegreen', inner=\"quartile\", orient='h', ax=ax[1])\n",
    "        \n",
    "        #Boxplot\n",
    "        ax[2].set_title(\"Box Plot\",fontsize = 10)\n",
    "        sns.boxplot(data =df, x=col,color='cyan',orient=\"h\",ax=ax[2])\n",
    "        \n",
    "        fig.tight_layout()\n",
    "        \n",
    "    if vartype == 1 :\n",
    "        #Count plot \n",
    "        fig = plt.figure(figsize=(12,6))\n",
    "        plt.title('Count Plot',fontsize = 20)\n",
    "        ax=sns.countplot(data=df, x=column, palette=\"Blues_r\")\n",
    "        ax.set_xlabel(column, fontsize = 15)\n",
    "        ax.tick_params(labelsize=12)"
   ]
  },
  {
   "cell_type": "code",
   "execution_count": 69,
   "metadata": {},
   "outputs": [
    {
     "data": {
      "image/png": "[encoded data removed]",
      "text/plain": [
       "<matplotlib.figure.Figure at 0x24872392cf8>"
      ]
     },
     "metadata": {},
     "output_type": "display_data"
    },
    {
     "data": {
      "image/png": "[encoded data removed]",
      "text/plain": [
       "<matplotlib.figure.Figure at 0x24871d884a8>"
      ]
     },
     "metadata": {},
     "output_type": "display_data"
    },
    {
     "data": {
      "image/png": "[encoded data removed]",
      "text/plain": [
       "<matplotlib.figure.Figure at 0x24872357828>"
      ]
     },
     "metadata": {},
     "output_type": "display_data"
    },
    {
     "data": {
      "image/png": "[encoded data removed]",
      "text/plain": [
       "<matplotlib.figure.Figure at 0x248723e70f0>"
      ]
     },
     "metadata": {},
     "output_type": "display_data"
    },
    {
     "data": {
      "image/png": "[encoded data removed]",
      "text/plain": [
       "<matplotlib.figure.Figure at 0x2487241d2e8>"
      ]
     },
     "metadata": {},
     "output_type": "display_data"
    },
    {
     "data": {
      "image/png": "[encoded data removed]",
      "text/plain": [
       "<matplotlib.figure.Figure at 0x248069881d0>"
      ]
     },
     "metadata": {},
     "output_type": "display_data"
    },
    {
     "data": {
      "image/png": "[encoded data removed]",
      "text/plain": [
       "<matplotlib.figure.Figure at 0x24806acf588>"
      ]
     },
     "metadata": {},
     "output_type": "display_data"
    },
    {
     "data": {
      "image/png": "[encoded data removed]",
      "text/plain": [
       "<matplotlib.figure.Figure at 0x248724e4048>"
      ]
     },
     "metadata": {},
     "output_type": "display_data"
    }
   ],
   "source": [
    "# 1. Define Dataframe\n",
    "dataframe = df_age\n",
    "\n",
    "# 2. Define feature\n",
    "col = ['AGE','PAY_AMT1','PAY_AMT2','PAY_AMT3','BILL_AMT1','BILL_AMT2','BILL_AMT3','LIMIT_BAL']\n",
    "\n",
    "# 3. Vartype \n",
    "var_type = 0   \n",
    " \n",
    "#Visualization\n",
    "for x in range(len(col)):\n",
    "    Univariate_plot(df=dataframe,column = col[x], vartype = var_type )"
   ]
  },
  {
   "cell_type": "code",
   "execution_count": 70,
   "metadata": {},
   "outputs": [
    {
     "data": {
      "image/png": "[encoded data removed]",
      "text/plain": [
       "<matplotlib.figure.Figure at 0x248080122e8>"
      ]
     },
     "metadata": {},
     "output_type": "display_data"
    },
    {
     "data": {
      "image/png": "[encoded data removed]",
      "text/plain": [
       "<matplotlib.figure.Figure at 0x24808068828>"
      ]
     },
     "metadata": {},
     "output_type": "display_data"
    },
    {
     "data": {
      "image/png": "[encoded data removed]",
      "text/plain": [
       "<matplotlib.figure.Figure at 0x2480858e748>"
      ]
     },
     "metadata": {},
     "output_type": "display_data"
    },
    {
     "data": {
      "image/png": "[encoded data removed]",
      "text/plain": [
       "<matplotlib.figure.Figure at 0x248085d7048>"
      ]
     },
     "metadata": {},
     "output_type": "display_data"
    },
    {
     "data": {
      "image/png": "[encoded data removed]",
      "text/plain": [
       "<matplotlib.figure.Figure at 0x248085cbf28>"
      ]
     },
     "metadata": {},
     "output_type": "display_data"
    },
    {
     "data": {
      "image/png": "[encoded data removed]",
      "text/plain": [
       "<matplotlib.figure.Figure at 0x24808663c18>"
      ]
     },
     "metadata": {},
     "output_type": "display_data"
    }
   ],
   "source": [
    "# 1. Define Dataframe\n",
    "dataframe = df_age\n",
    "\n",
    "# 2. Define feature\n",
    "col = categorical_list1\n",
    "\n",
    "# 3. Vartype \n",
    "var_type = 1   \n",
    " \n",
    "#Visualization\n",
    "for x in range(len(col)):\n",
    "    Univariate_plot(df=dataframe,column = col[x], vartype = var_type )"
   ]
  },
  {
   "cell_type": "markdown",
   "metadata": {},
   "source": [
    "### Get_dummies from data"
   ]
  },
  {
   "cell_type": "markdown",
   "metadata": {},
   "source": [
    "Melakukan pemisahan kolom pada data yang bernilai ordinal. Get dummies menggunakan pendekatan label encoder."
   ]
  },
  {
   "cell_type": "code",
   "execution_count": 111,
   "metadata": {},
   "outputs": [],
   "source": [
    "df1 = pd.get_dummies(df_age, drop_first=True)"
   ]
  },
  {
   "cell_type": "code",
   "execution_count": 112,
   "metadata": {},
   "outputs": [
    {
     "data": {
      "text/plain": [
       "Index(['AGE', 'BILL_AMT1', 'BILL_AMT2', 'BILL_AMT3', 'LIMIT_BAL', 'PAY_AMT1',\n",
       "       'PAY_AMT2', 'PAY_AMT3', 'TARGET', 'EDUCATION_2', 'EDUCATION_3',\n",
       "       'EDUCATION_4', 'MARRIAGE_2', 'MARRIAGE_3', 'PAY_1_1', 'PAY_1_2',\n",
       "       'PAY_1_3', 'PAY_1_4', 'PAY_2_1', 'PAY_2_2', 'PAY_2_3', 'PAY_2_4',\n",
       "       'PAY_3_1', 'PAY_3_2', 'PAY_3_3', 'PAY_3_4', 'SEX_2'],\n",
       "      dtype='object')"
      ]
     },
     "execution_count": 112,
     "metadata": {},
     "output_type": "execute_result"
    }
   ],
   "source": [
    "df1.columns"
   ]
  },
  {
   "cell_type": "code",
   "execution_count": 110,
   "metadata": {},
   "outputs": [
    {
     "data": {
      "text/plain": [
       "Index(['AGE', 'BILL_AMT1', 'BILL_AMT2', 'BILL_AMT3', 'LIMIT_BAL', 'PAY_AMT1',\n",
       "       'PAY_AMT2', 'PAY_AMT3', 'TARGET', 'EDUCATION_1', 'EDUCATION_2',\n",
       "       'EDUCATION_3', 'EDUCATION_4', 'MARRIAGE_1', 'MARRIAGE_2', 'MARRIAGE_3',\n",
       "       'PAY_1_0', 'PAY_1_1', 'PAY_1_2', 'PAY_1_3', 'PAY_1_4', 'PAY_2_0',\n",
       "       'PAY_2_1', 'PAY_2_2', 'PAY_2_3', 'PAY_2_4', 'PAY_3_0', 'PAY_3_1',\n",
       "       'PAY_3_2', 'PAY_3_3', 'PAY_3_4', 'SEX_1', 'SEX_2'],\n",
       "      dtype='object')"
      ]
     },
     "execution_count": 110,
     "metadata": {},
     "output_type": "execute_result"
    }
   ],
   "source": [
    "df1.columns"
   ]
  },
  {
   "cell_type": "code",
   "execution_count": 109,
   "metadata": {},
   "outputs": [
    {
     "data": {
      "text/html": [
       "<div>\n",
       "<style scoped>\n",
       "    .dataframe tbody tr th:only-of-type {\n",
       "        vertical-align: middle;\n",
       "    }\n",
       "\n",
       "    .dataframe tbody tr th {\n",
       "        vertical-align: top;\n",
       "    }\n",
       "\n",
       "    .dataframe thead th {\n",
       "        text-align: right;\n",
       "    }\n",
       "</style>\n",
       "<table border=\"1\" class=\"dataframe\">\n",
       "  <thead>\n",
       "    <tr style=\"text-align: right;\">\n",
       "      <th></th>\n",
       "      <th>AGE</th>\n",
       "      <th>BILL_AMT1</th>\n",
       "      <th>BILL_AMT2</th>\n",
       "      <th>BILL_AMT3</th>\n",
       "      <th>LIMIT_BAL</th>\n",
       "      <th>PAY_AMT1</th>\n",
       "      <th>PAY_AMT2</th>\n",
       "      <th>PAY_AMT3</th>\n",
       "      <th>TARGET</th>\n",
       "      <th>EDUCATION_1</th>\n",
       "      <th>...</th>\n",
       "      <th>PAY_2_2</th>\n",
       "      <th>PAY_2_3</th>\n",
       "      <th>PAY_2_4</th>\n",
       "      <th>PAY_3_0</th>\n",
       "      <th>PAY_3_1</th>\n",
       "      <th>PAY_3_2</th>\n",
       "      <th>PAY_3_3</th>\n",
       "      <th>PAY_3_4</th>\n",
       "      <th>SEX_1</th>\n",
       "      <th>SEX_2</th>\n",
       "    </tr>\n",
       "    <tr>\n",
       "      <th>ID</th>\n",
       "      <th></th>\n",
       "      <th></th>\n",
       "      <th></th>\n",
       "      <th></th>\n",
       "      <th></th>\n",
       "      <th></th>\n",
       "      <th></th>\n",
       "      <th></th>\n",
       "      <th></th>\n",
       "      <th></th>\n",
       "      <th></th>\n",
       "      <th></th>\n",
       "      <th></th>\n",
       "      <th></th>\n",
       "      <th></th>\n",
       "      <th></th>\n",
       "      <th></th>\n",
       "      <th></th>\n",
       "      <th></th>\n",
       "      <th></th>\n",
       "      <th></th>\n",
       "    </tr>\n",
       "  </thead>\n",
       "  <tbody>\n",
       "    <tr>\n",
       "      <th>1</th>\n",
       "      <td>40</td>\n",
       "      <td>24607.000000</td>\n",
       "      <td>24430.000000</td>\n",
       "      <td>23881.000000</td>\n",
       "      <td>30000.000000</td>\n",
       "      <td>1700.000000</td>\n",
       "      <td>1600.000000</td>\n",
       "      <td>1287.000000</td>\n",
       "      <td>0.000000</td>\n",
       "      <td>1</td>\n",
       "      <td>...</td>\n",
       "      <td>0</td>\n",
       "      <td>0</td>\n",
       "      <td>0</td>\n",
       "      <td>1</td>\n",
       "      <td>0</td>\n",
       "      <td>0</td>\n",
       "      <td>0</td>\n",
       "      <td>0</td>\n",
       "      <td>0</td>\n",
       "      <td>1</td>\n",
       "    </tr>\n",
       "    <tr>\n",
       "      <th>2</th>\n",
       "      <td>41</td>\n",
       "      <td>17040.000000</td>\n",
       "      <td>16474.000000</td>\n",
       "      <td>17203.000000</td>\n",
       "      <td>20000.000000</td>\n",
       "      <td>0.000000</td>\n",
       "      <td>1300.000000</td>\n",
       "      <td>1500.000000</td>\n",
       "      <td>0.000000</td>\n",
       "      <td>1</td>\n",
       "      <td>...</td>\n",
       "      <td>1</td>\n",
       "      <td>0</td>\n",
       "      <td>0</td>\n",
       "      <td>1</td>\n",
       "      <td>0</td>\n",
       "      <td>0</td>\n",
       "      <td>0</td>\n",
       "      <td>0</td>\n",
       "      <td>0</td>\n",
       "      <td>1</td>\n",
       "    </tr>\n",
       "    <tr>\n",
       "      <th>3</th>\n",
       "      <td>36</td>\n",
       "      <td>17332.000000</td>\n",
       "      <td>18600.000000</td>\n",
       "      <td>17947.000000</td>\n",
       "      <td>20000.000000</td>\n",
       "      <td>1580.000000</td>\n",
       "      <td>1367.000000</td>\n",
       "      <td>1178.000000</td>\n",
       "      <td>0.000000</td>\n",
       "      <td>1</td>\n",
       "      <td>...</td>\n",
       "      <td>0</td>\n",
       "      <td>0</td>\n",
       "      <td>0</td>\n",
       "      <td>1</td>\n",
       "      <td>0</td>\n",
       "      <td>0</td>\n",
       "      <td>0</td>\n",
       "      <td>0</td>\n",
       "      <td>0</td>\n",
       "      <td>1</td>\n",
       "    </tr>\n",
       "    <tr>\n",
       "      <th>4</th>\n",
       "      <td>35</td>\n",
       "      <td>2003.000000</td>\n",
       "      <td>2948.000000</td>\n",
       "      <td>3372.000000</td>\n",
       "      <td>20000.000000</td>\n",
       "      <td>1086.000000</td>\n",
       "      <td>1000.000000</td>\n",
       "      <td>0.000000</td>\n",
       "      <td>0.000000</td>\n",
       "      <td>1</td>\n",
       "      <td>...</td>\n",
       "      <td>0</td>\n",
       "      <td>0</td>\n",
       "      <td>0</td>\n",
       "      <td>1</td>\n",
       "      <td>0</td>\n",
       "      <td>0</td>\n",
       "      <td>0</td>\n",
       "      <td>0</td>\n",
       "      <td>0</td>\n",
       "      <td>1</td>\n",
       "    </tr>\n",
       "    <tr>\n",
       "      <th>5</th>\n",
       "      <td>38</td>\n",
       "      <td>171465.000000</td>\n",
       "      <td>145196.000000</td>\n",
       "      <td>110163.000000</td>\n",
       "      <td>170000.000000</td>\n",
       "      <td>18500.000000</td>\n",
       "      <td>13998.000000</td>\n",
       "      <td>3760.000000</td>\n",
       "      <td>0.000000</td>\n",
       "      <td>1</td>\n",
       "      <td>...</td>\n",
       "      <td>0</td>\n",
       "      <td>0</td>\n",
       "      <td>0</td>\n",
       "      <td>1</td>\n",
       "      <td>0</td>\n",
       "      <td>0</td>\n",
       "      <td>0</td>\n",
       "      <td>0</td>\n",
       "      <td>0</td>\n",
       "      <td>1</td>\n",
       "    </tr>\n",
       "  </tbody>\n",
       "</table>\n",
       "<p>5 rows × 33 columns</p>\n",
       "</div>"
      ],
      "text/plain": [
       "    AGE     BILL_AMT1     BILL_AMT2     BILL_AMT3     LIMIT_BAL     PAY_AMT1  \\\n",
       "ID                                                                             \n",
       "1    40  24607.000000  24430.000000  23881.000000  30000.000000  1700.000000   \n",
       "2    41  17040.000000  16474.000000  17203.000000  20000.000000     0.000000   \n",
       "3    36  17332.000000  18600.000000  17947.000000  20000.000000  1580.000000   \n",
       "4    35   2003.000000   2948.000000   3372.000000  20000.000000  1086.000000   \n",
       "5    38 171465.000000 145196.000000 110163.000000 170000.000000 18500.000000   \n",
       "\n",
       "       PAY_AMT2    PAY_AMT3   TARGET  EDUCATION_1  ...    PAY_2_2  PAY_2_3  \\\n",
       "ID                                                 ...                       \n",
       "1   1600.000000 1287.000000 0.000000            1  ...          0        0   \n",
       "2   1300.000000 1500.000000 0.000000            1  ...          1        0   \n",
       "3   1367.000000 1178.000000 0.000000            1  ...          0        0   \n",
       "4   1000.000000    0.000000 0.000000            1  ...          0        0   \n",
       "5  13998.000000 3760.000000 0.000000            1  ...          0        0   \n",
       "\n",
       "    PAY_2_4  PAY_3_0  PAY_3_1  PAY_3_2  PAY_3_3  PAY_3_4  SEX_1  SEX_2  \n",
       "ID                                                                      \n",
       "1         0        1        0        0        0        0      0      1  \n",
       "2         0        1        0        0        0        0      0      1  \n",
       "3         0        1        0        0        0        0      0      1  \n",
       "4         0        1        0        0        0        0      0      1  \n",
       "5         0        1        0        0        0        0      0      1  \n",
       "\n",
       "[5 rows x 33 columns]"
      ]
     },
     "execution_count": 109,
     "metadata": {},
     "output_type": "execute_result"
    }
   ],
   "source": [
    "df1.head()"
   ]
  },
  {
   "cell_type": "code",
   "execution_count": 73,
   "metadata": {},
   "outputs": [],
   "source": [
    "df1 = df1[['AGE', 'BILL_AMT1', 'BILL_AMT2', 'BILL_AMT3', 'LIMIT_BAL', 'PAY_AMT1',\n",
    "       'PAY_AMT2', 'PAY_AMT3', 'EDUCATION_2', 'EDUCATION_3',\n",
    "       'EDUCATION_4', 'MARRIAGE_2', 'MARRIAGE_3', 'PAY_1_1', 'PAY_1_2',\n",
    "       'PAY_1_3', 'PAY_1_4', 'PAY_2_1', 'PAY_2_2', 'PAY_2_3', 'PAY_2_4',\n",
    "       'PAY_3_1', 'PAY_3_2', 'PAY_3_3', 'PAY_3_4', 'SEX_2', 'TARGET']]"
   ]
  },
  {
   "cell_type": "markdown",
   "metadata": {},
   "source": [
    "## 3. Model"
   ]
  },
  {
   "cell_type": "markdown",
   "metadata": {},
   "source": [
    "### 3.1. Logistic Reg"
   ]
  },
  {
   "cell_type": "code",
   "execution_count": 74,
   "metadata": {},
   "outputs": [],
   "source": [
    "df1_train = df1[:16534]\n",
    "df1_predict = df1[16535:-1]"
   ]
  },
  {
   "cell_type": "code",
   "execution_count": 75,
   "metadata": {},
   "outputs": [],
   "source": [
    "df1_train = df1_train.sample(frac=1,random_state=12)"
   ]
  },
  {
   "cell_type": "code",
   "execution_count": 76,
   "metadata": {},
   "outputs": [],
   "source": [
    "def log_regression(df, ycol = None, alpha = None):\n",
    "    if alpha == None :\n",
    "        alpha = 0.05\n",
    "    #determine y and x variable     \n",
    "    y = df[ycol]\n",
    "    x = df.drop([ycol], axis = 1)\n",
    "    #regression logistic\n",
    "    model = sm.Logit(y,x)\n",
    "    #regression \n",
    "    result = model.fit()\n",
    "    #get p-values\n",
    "    result             = result.pvalues\n",
    "    result             = pd.DataFrame(result, columns=['p_value'])\n",
    "    result.index       = result.index.set_names(['features'])\n",
    "    #result            = result.reset_index().rename(columns = {result.index.name : 'features'})\n",
    "    result['alpha']    = alpha\n",
    "    result['decision'] = np.where(result['p_value'] <= alpha, 'Correlated', 'Not Correlated')\n",
    "    #result             = result['decision']\n",
    "    \n",
    "    return result"
   ]
  },
  {
   "cell_type": "code",
   "execution_count": 77,
   "metadata": {},
   "outputs": [
    {
     "name": "stdout",
     "output_type": "stream",
     "text": [
      "Optimization terminated successfully.\n",
      "         Current function value: 0.527465\n",
      "         Iterations 7\n"
     ]
    },
    {
     "data": {
      "text/html": [
       "<div>\n",
       "<style scoped>\n",
       "    .dataframe tbody tr th:only-of-type {\n",
       "        vertical-align: middle;\n",
       "    }\n",
       "\n",
       "    .dataframe tbody tr th {\n",
       "        vertical-align: top;\n",
       "    }\n",
       "\n",
       "    .dataframe thead th {\n",
       "        text-align: right;\n",
       "    }\n",
       "</style>\n",
       "<table border=\"1\" class=\"dataframe\">\n",
       "  <thead>\n",
       "    <tr style=\"text-align: right;\">\n",
       "      <th></th>\n",
       "      <th>p_value</th>\n",
       "      <th>alpha</th>\n",
       "      <th>decision</th>\n",
       "    </tr>\n",
       "    <tr>\n",
       "      <th>features</th>\n",
       "      <th></th>\n",
       "      <th></th>\n",
       "      <th></th>\n",
       "    </tr>\n",
       "  </thead>\n",
       "  <tbody>\n",
       "    <tr>\n",
       "      <th>AGE</th>\n",
       "      <td>1.415299e-20</td>\n",
       "      <td>0.05</td>\n",
       "      <td>Correlated</td>\n",
       "    </tr>\n",
       "    <tr>\n",
       "      <th>BILL_AMT1</th>\n",
       "      <td>1.418498e-04</td>\n",
       "      <td>0.05</td>\n",
       "      <td>Correlated</td>\n",
       "    </tr>\n",
       "    <tr>\n",
       "      <th>BILL_AMT2</th>\n",
       "      <td>8.072864e-02</td>\n",
       "      <td>0.05</td>\n",
       "      <td>Not Correlated</td>\n",
       "    </tr>\n",
       "    <tr>\n",
       "      <th>BILL_AMT3</th>\n",
       "      <td>1.276133e-01</td>\n",
       "      <td>0.05</td>\n",
       "      <td>Not Correlated</td>\n",
       "    </tr>\n",
       "    <tr>\n",
       "      <th>LIMIT_BAL</th>\n",
       "      <td>9.449715e-116</td>\n",
       "      <td>0.05</td>\n",
       "      <td>Correlated</td>\n",
       "    </tr>\n",
       "    <tr>\n",
       "      <th>PAY_AMT1</th>\n",
       "      <td>9.233066e-10</td>\n",
       "      <td>0.05</td>\n",
       "      <td>Correlated</td>\n",
       "    </tr>\n",
       "    <tr>\n",
       "      <th>PAY_AMT2</th>\n",
       "      <td>7.177550e-04</td>\n",
       "      <td>0.05</td>\n",
       "      <td>Correlated</td>\n",
       "    </tr>\n",
       "    <tr>\n",
       "      <th>PAY_AMT3</th>\n",
       "      <td>1.647369e-02</td>\n",
       "      <td>0.05</td>\n",
       "      <td>Correlated</td>\n",
       "    </tr>\n",
       "    <tr>\n",
       "      <th>EDUCATION_2</th>\n",
       "      <td>1.418382e-02</td>\n",
       "      <td>0.05</td>\n",
       "      <td>Correlated</td>\n",
       "    </tr>\n",
       "    <tr>\n",
       "      <th>EDUCATION_3</th>\n",
       "      <td>3.304254e-23</td>\n",
       "      <td>0.05</td>\n",
       "      <td>Correlated</td>\n",
       "    </tr>\n",
       "    <tr>\n",
       "      <th>EDUCATION_4</th>\n",
       "      <td>4.388771e-01</td>\n",
       "      <td>0.05</td>\n",
       "      <td>Not Correlated</td>\n",
       "    </tr>\n",
       "    <tr>\n",
       "      <th>MARRIAGE_2</th>\n",
       "      <td>9.984443e-77</td>\n",
       "      <td>0.05</td>\n",
       "      <td>Correlated</td>\n",
       "    </tr>\n",
       "    <tr>\n",
       "      <th>MARRIAGE_3</th>\n",
       "      <td>2.803192e-02</td>\n",
       "      <td>0.05</td>\n",
       "      <td>Correlated</td>\n",
       "    </tr>\n",
       "    <tr>\n",
       "      <th>PAY_1_1</th>\n",
       "      <td>5.035845e-20</td>\n",
       "      <td>0.05</td>\n",
       "      <td>Correlated</td>\n",
       "    </tr>\n",
       "    <tr>\n",
       "      <th>PAY_1_2</th>\n",
       "      <td>7.086596e-176</td>\n",
       "      <td>0.05</td>\n",
       "      <td>Correlated</td>\n",
       "    </tr>\n",
       "    <tr>\n",
       "      <th>PAY_1_3</th>\n",
       "      <td>3.403181e-24</td>\n",
       "      <td>0.05</td>\n",
       "      <td>Correlated</td>\n",
       "    </tr>\n",
       "    <tr>\n",
       "      <th>PAY_1_4</th>\n",
       "      <td>1.437309e-03</td>\n",
       "      <td>0.05</td>\n",
       "      <td>Correlated</td>\n",
       "    </tr>\n",
       "    <tr>\n",
       "      <th>PAY_2_1</th>\n",
       "      <td>3.169356e-01</td>\n",
       "      <td>0.05</td>\n",
       "      <td>Not Correlated</td>\n",
       "    </tr>\n",
       "    <tr>\n",
       "      <th>PAY_2_2</th>\n",
       "      <td>1.155114e-06</td>\n",
       "      <td>0.05</td>\n",
       "      <td>Correlated</td>\n",
       "    </tr>\n",
       "    <tr>\n",
       "      <th>PAY_2_3</th>\n",
       "      <td>7.848765e-03</td>\n",
       "      <td>0.05</td>\n",
       "      <td>Correlated</td>\n",
       "    </tr>\n",
       "    <tr>\n",
       "      <th>PAY_2_4</th>\n",
       "      <td>7.058895e-01</td>\n",
       "      <td>0.05</td>\n",
       "      <td>Not Correlated</td>\n",
       "    </tr>\n",
       "    <tr>\n",
       "      <th>PAY_3_1</th>\n",
       "      <td>6.193891e-01</td>\n",
       "      <td>0.05</td>\n",
       "      <td>Not Correlated</td>\n",
       "    </tr>\n",
       "    <tr>\n",
       "      <th>PAY_3_2</th>\n",
       "      <td>2.155212e-13</td>\n",
       "      <td>0.05</td>\n",
       "      <td>Correlated</td>\n",
       "    </tr>\n",
       "    <tr>\n",
       "      <th>PAY_3_3</th>\n",
       "      <td>1.363560e-02</td>\n",
       "      <td>0.05</td>\n",
       "      <td>Correlated</td>\n",
       "    </tr>\n",
       "    <tr>\n",
       "      <th>PAY_3_4</th>\n",
       "      <td>3.023099e-01</td>\n",
       "      <td>0.05</td>\n",
       "      <td>Not Correlated</td>\n",
       "    </tr>\n",
       "    <tr>\n",
       "      <th>SEX_2</th>\n",
       "      <td>3.891467e-127</td>\n",
       "      <td>0.05</td>\n",
       "      <td>Correlated</td>\n",
       "    </tr>\n",
       "  </tbody>\n",
       "</table>\n",
       "</div>"
      ],
      "text/plain": [
       "                   p_value  alpha        decision\n",
       "features                                         \n",
       "AGE           1.415299e-20   0.05      Correlated\n",
       "BILL_AMT1     1.418498e-04   0.05      Correlated\n",
       "BILL_AMT2     8.072864e-02   0.05  Not Correlated\n",
       "BILL_AMT3     1.276133e-01   0.05  Not Correlated\n",
       "LIMIT_BAL    9.449715e-116   0.05      Correlated\n",
       "PAY_AMT1      9.233066e-10   0.05      Correlated\n",
       "PAY_AMT2      7.177550e-04   0.05      Correlated\n",
       "PAY_AMT3      1.647369e-02   0.05      Correlated\n",
       "EDUCATION_2   1.418382e-02   0.05      Correlated\n",
       "EDUCATION_3   3.304254e-23   0.05      Correlated\n",
       "EDUCATION_4   4.388771e-01   0.05  Not Correlated\n",
       "MARRIAGE_2    9.984443e-77   0.05      Correlated\n",
       "MARRIAGE_3    2.803192e-02   0.05      Correlated\n",
       "PAY_1_1       5.035845e-20   0.05      Correlated\n",
       "PAY_1_2      7.086596e-176   0.05      Correlated\n",
       "PAY_1_3       3.403181e-24   0.05      Correlated\n",
       "PAY_1_4       1.437309e-03   0.05      Correlated\n",
       "PAY_2_1       3.169356e-01   0.05  Not Correlated\n",
       "PAY_2_2       1.155114e-06   0.05      Correlated\n",
       "PAY_2_3       7.848765e-03   0.05      Correlated\n",
       "PAY_2_4       7.058895e-01   0.05  Not Correlated\n",
       "PAY_3_1       6.193891e-01   0.05  Not Correlated\n",
       "PAY_3_2       2.155212e-13   0.05      Correlated\n",
       "PAY_3_3       1.363560e-02   0.05      Correlated\n",
       "PAY_3_4       3.023099e-01   0.05  Not Correlated\n",
       "SEX_2        3.891467e-127   0.05      Correlated"
      ]
     },
     "execution_count": 77,
     "metadata": {},
     "output_type": "execute_result"
    }
   ],
   "source": [
    "result = log_regression(df1_train, ycol = 'TARGET')\n",
    "result"
   ]
  },
  {
   "cell_type": "code",
   "execution_count": 78,
   "metadata": {},
   "outputs": [],
   "source": [
    "logreg_data = df1_train[['AGE', 'BILL_AMT1', 'LIMIT_BAL', 'PAY_AMT1',\n",
    "       'PAY_AMT2', 'PAY_AMT3', 'EDUCATION_2', 'EDUCATION_3',\n",
    "       'MARRIAGE_2', 'MARRIAGE_3', 'PAY_1_1', 'PAY_1_2', 'PAY_1_3', 'PAY_1_4',\n",
    "        'PAY_2_2', 'PAY_2_3', 'PAY_3_2',\n",
    "       'PAY_3_3', 'SEX_2', 'TARGET']]"
   ]
  },
  {
   "cell_type": "markdown",
   "metadata": {},
   "source": [
    "Melakukan pengacakan data"
   ]
  },
  {
   "cell_type": "code",
   "execution_count": 79,
   "metadata": {},
   "outputs": [],
   "source": [
    "logreg_data = logreg_data.sample(frac=1, random_state=12)"
   ]
  },
  {
   "cell_type": "code",
   "execution_count": 80,
   "metadata": {},
   "outputs": [],
   "source": [
    "X = logreg_data\n",
    "X_full = df1_train\n",
    "y = logreg_data.TARGET\n",
    "y_full = df1_train.TARGET"
   ]
  },
  {
   "cell_type": "code",
   "execution_count": 81,
   "metadata": {},
   "outputs": [
    {
     "name": "stdout",
     "output_type": "stream",
     "text": [
      "(13227, 27) (13227,)\n",
      "(3307, 27) (3307,)\n"
     ]
    }
   ],
   "source": [
    "X_train_full, X_test_full, y_train_full, y_test_full = train_test_split(X_full, y_full, test_size=0.2)\n",
    "print (X_train_full.shape, y_train_full.shape)\n",
    "print (X_test_full.shape, y_test_full.shape)"
   ]
  },
  {
   "cell_type": "code",
   "execution_count": 82,
   "metadata": {
    "scrolled": true
   },
   "outputs": [
    {
     "name": "stdout",
     "output_type": "stream",
     "text": [
      "(13227, 20) (13227,)\n",
      "(3307, 20) (3307,)\n"
     ]
    }
   ],
   "source": [
    "# create training and testing vars\n",
    "X_train, X_test, y_train, y_test = train_test_split(X, y, test_size=0.2)\n",
    "print (X_train.shape, y_train.shape)\n",
    "print (X_test.shape, y_test.shape)"
   ]
  },
  {
   "cell_type": "code",
   "execution_count": 83,
   "metadata": {},
   "outputs": [
    {
     "name": "stdout",
     "output_type": "stream",
     "text": [
      "Wall time: 156 ms\n"
     ]
    }
   ],
   "source": [
    "%%time\n",
    "\n",
    "# import the class\n",
    "from sklearn.linear_model import LogisticRegression\n",
    "\n",
    "# instantiate the model (using the default parameters)\n",
    "logreg = LogisticRegression()\n",
    "\n",
    "# fit the model with data\n",
    "logreg.fit(X_train,y_train)\n",
    "\n",
    "# predict the data\n",
    "y_pred=logreg.predict(X_test)"
   ]
  },
  {
   "cell_type": "code",
   "execution_count": 84,
   "metadata": {
    "scrolled": true
   },
   "outputs": [
    {
     "name": "stdout",
     "output_type": "stream",
     "text": [
      "             precision    recall  f1-score   support\n",
      "\n",
      "        0.0       0.70      0.69      0.70      1994\n",
      "        1.0       0.54      0.56      0.55      1313\n",
      "\n",
      "avg / total       0.64      0.64      0.64      3307\n",
      "\n"
     ]
    }
   ],
   "source": [
    "from sklearn.metrics import classification_report\n",
    "print(classification_report(y_test, y_pred))"
   ]
  },
  {
   "cell_type": "code",
   "execution_count": 85,
   "metadata": {},
   "outputs": [
    {
     "name": "stdout",
     "output_type": "stream",
     "text": [
      "AUC:  0.6506121563471833\n"
     ]
    },
    {
     "data": {
      "image/png": "[encoded data removed]",
      "text/plain": [
       "<matplotlib.figure.Figure at 0x2486fb52a58>"
      ]
     },
     "metadata": {},
     "output_type": "display_data"
    }
   ],
   "source": [
    "y_pred_proba = logreg.predict_proba(X_test)[::,1]\n",
    "fpr, tpr, _ = metrics.roc_curve(y_test,  y_pred_proba)\n",
    "acc_lr = metrics.roc_auc_score(y_test, y_pred_proba)\n",
    "print('AUC: ',acc_lr)\n",
    "plt.plot(fpr,tpr,label=\"data 1, auc=\"+str(acc_lr))\n",
    "plt.legend(loc=4)\n",
    "plt.show()"
   ]
  },
  {
   "cell_type": "markdown",
   "metadata": {},
   "source": [
    "### 3.2 LogisticRegressionCV"
   ]
  },
  {
   "cell_type": "code",
   "execution_count": 86,
   "metadata": {},
   "outputs": [],
   "source": [
    "from sklearn.linear_model import LogisticRegressionCV"
   ]
  },
  {
   "cell_type": "code",
   "execution_count": 87,
   "metadata": {},
   "outputs": [
    {
     "name": "stdout",
     "output_type": "stream",
     "text": [
      "CV ke:  2\n",
      "AUC:  0.6569202944050182\n",
      "CV ke:  3\n",
      "AUC:  0.6569195286824365\n",
      "CV ke:  4\n",
      "AUC:  0.6569329288276174\n",
      "CV ke:  5\n",
      "AUC:  0.6569283344921268\n"
     ]
    }
   ],
   "source": [
    "X = logreg_data\n",
    "y = logreg_data.TARGET\n",
    "\n",
    "# create training and testing vars\n",
    "X_train, X_test, y_train, y_test = train_test_split(X, y, test_size=0.2)\n",
    "\n",
    "# import the class\n",
    "from sklearn.linear_model import LogisticRegression\n",
    "\n",
    "# instantiate the model (using the default parameters)\n",
    "arr = [2,3,4,5]\n",
    "for x in range(len(arr)):\n",
    "    logregCV = LogisticRegressionCV(cv=arr[x], random_state=0)\n",
    "\n",
    "# fit the model with data\n",
    "    logregCV.fit(X_train,y_train)\n",
    "\n",
    "# do the predict\n",
    "    y_pred=logregCV.predict(X_test)\n",
    "\n",
    "\n",
    "# from sklearn.metrics import classification_report\n",
    "# print(classification_report(y_test, y_pred))\n",
    "\n",
    "    y_pred_proba = logregCV.predict_proba(X_test)[::,1]\n",
    "    fpr, tpr, _ = metrics.roc_curve(y_test,  y_pred_proba)\n",
    "    auc = metrics.roc_auc_score(y_test, y_pred_proba)\n",
    "    print('CV ke: ',arr[x])\n",
    "    print('AUC: ',auc)\n",
    "# plt.plot(fpr,tpr,label=\"data 1, auc=\"+str(auc))\n",
    "# plt.legend(loc=4)\n",
    "# plt.show()"
   ]
  },
  {
   "cell_type": "markdown",
   "metadata": {},
   "source": [
    "### 3.3 Support Vector Machine"
   ]
  },
  {
   "cell_type": "code",
   "execution_count": 88,
   "metadata": {},
   "outputs": [],
   "source": [
    "from sklearn import svm"
   ]
  },
  {
   "cell_type": "code",
   "execution_count": 89,
   "metadata": {},
   "outputs": [
    {
     "name": "stdout",
     "output_type": "stream",
     "text": [
      "Wall time: 1min 16s\n"
     ]
    }
   ],
   "source": [
    "%%time\n",
    "\n",
    "clf = svm.SVC()\n",
    "clf.fit(X_train_full, y_train_full)\n",
    "\n",
    "y_pred_full=clf.predict(X_test_full)"
   ]
  },
  {
   "cell_type": "code",
   "execution_count": 90,
   "metadata": {},
   "outputs": [
    {
     "name": "stdout",
     "output_type": "stream",
     "text": [
      "             precision    recall  f1-score   support\n",
      "\n",
      "        0.0       0.61      1.00      0.75      1965\n",
      "        1.0       0.88      0.05      0.09      1342\n",
      "\n",
      "avg / total       0.72      0.61      0.48      3307\n",
      "\n"
     ]
    }
   ],
   "source": [
    "from sklearn.metrics import classification_report\n",
    "print(classification_report(y_test_full, y_pred_full))"
   ]
  },
  {
   "cell_type": "code",
   "execution_count": 91,
   "metadata": {},
   "outputs": [
    {
     "data": {
      "text/plain": [
       "0.5219275093571176"
      ]
     },
     "execution_count": 91,
     "metadata": {},
     "output_type": "execute_result"
    }
   ],
   "source": [
    "acc_svm = roc_auc_score(y_test_full, y_pred_full)\n",
    "acc_svm"
   ]
  },
  {
   "cell_type": "markdown",
   "metadata": {},
   "source": [
    "### 3.4 Random Forest"
   ]
  },
  {
   "cell_type": "code",
   "execution_count": 116,
   "metadata": {},
   "outputs": [],
   "source": [
    "from sklearn.ensemble import RandomForestClassifier"
   ]
  },
  {
   "cell_type": "code",
   "execution_count": 118,
   "metadata": {},
   "outputs": [
    {
     "data": {
      "text/plain": [
       "Index(['AGE', 'BILL_AMT1', 'BILL_AMT2', 'BILL_AMT3', 'LIMIT_BAL', 'PAY_AMT1',\n",
       "       'PAY_AMT2', 'PAY_AMT3', 'EDUCATION_2', 'EDUCATION_3', 'EDUCATION_4',\n",
       "       'MARRIAGE_2', 'MARRIAGE_3', 'PAY_1_1', 'PAY_1_2', 'PAY_1_3', 'PAY_1_4',\n",
       "       'PAY_2_1', 'PAY_2_2', 'PAY_2_3', 'PAY_2_4', 'PAY_3_1', 'PAY_3_2',\n",
       "       'PAY_3_3', 'PAY_3_4', 'SEX_2', 'TARGET'],\n",
       "      dtype='object')"
      ]
     },
     "execution_count": 118,
     "metadata": {},
     "output_type": "execute_result"
    }
   ],
   "source": [
    "X_train_full.columns"
   ]
  },
  {
   "cell_type": "code",
   "execution_count": 121,
   "metadata": {},
   "outputs": [],
   "source": [
    "X_full = df1_train\n",
    "y_full = df1_train.TARGET"
   ]
  },
  {
   "cell_type": "code",
   "execution_count": 124,
   "metadata": {},
   "outputs": [],
   "source": [
    "X_train_full, X_test_full, y_train_full, y_test_full = train_test_split(X_full, y_full, test_size=0.2)"
   ]
  },
  {
   "cell_type": "code",
   "execution_count": 125,
   "metadata": {},
   "outputs": [
    {
     "name": "stdout",
     "output_type": "stream",
     "text": [
      "             precision    recall  f1-score   support\n",
      "\n",
      "        0.0       1.00      1.00      1.00      2016\n",
      "        1.0       1.00      1.00      1.00      1291\n",
      "\n",
      "avg / total       1.00      1.00      1.00      3307\n",
      "\n",
      "Wall time: 119 ms\n"
     ]
    }
   ],
   "source": [
    "%%time\n",
    "\n",
    "trainedforest = RandomForestClassifier().fit(X_train_full,y_train_full)\n",
    "predictionforest = trainedforest.predict(X_test_full)\n",
    "\n",
    "print(classification_report(y_test_full,predictionforest))"
   ]
  },
  {
   "cell_type": "code",
   "execution_count": 126,
   "metadata": {},
   "outputs": [
    {
     "name": "stdout",
     "output_type": "stream",
     "text": [
      "1.0\n"
     ]
    }
   ],
   "source": [
    "acc_rf = roc_auc_score(y_test_full, predictionforest)\n",
    "print(acc_rf)"
   ]
  },
  {
   "cell_type": "code",
   "execution_count": 97,
   "metadata": {},
   "outputs": [
    {
     "data": {
      "text/html": [
       "<div>\n",
       "<style scoped>\n",
       "    .dataframe tbody tr th:only-of-type {\n",
       "        vertical-align: middle;\n",
       "    }\n",
       "\n",
       "    .dataframe tbody tr th {\n",
       "        vertical-align: top;\n",
       "    }\n",
       "\n",
       "    .dataframe thead th {\n",
       "        text-align: right;\n",
       "    }\n",
       "</style>\n",
       "<table border=\"1\" class=\"dataframe\">\n",
       "  <thead>\n",
       "    <tr style=\"text-align: right;\">\n",
       "      <th></th>\n",
       "      <th>importance</th>\n",
       "    </tr>\n",
       "  </thead>\n",
       "  <tbody>\n",
       "    <tr>\n",
       "      <th>TARGET</th>\n",
       "      <td>0.726377</td>\n",
       "    </tr>\n",
       "    <tr>\n",
       "      <th>AGE</th>\n",
       "      <td>0.067491</td>\n",
       "    </tr>\n",
       "    <tr>\n",
       "      <th>LIMIT_BAL</th>\n",
       "      <td>0.056230</td>\n",
       "    </tr>\n",
       "    <tr>\n",
       "      <th>PAY_1_2</th>\n",
       "      <td>0.038511</td>\n",
       "    </tr>\n",
       "    <tr>\n",
       "      <th>PAY_2_2</th>\n",
       "      <td>0.026147</td>\n",
       "    </tr>\n",
       "    <tr>\n",
       "      <th>PAY_3_2</th>\n",
       "      <td>0.013618</td>\n",
       "    </tr>\n",
       "    <tr>\n",
       "      <th>PAY_AMT1</th>\n",
       "      <td>0.009743</td>\n",
       "    </tr>\n",
       "    <tr>\n",
       "      <th>BILL_AMT2</th>\n",
       "      <td>0.009363</td>\n",
       "    </tr>\n",
       "    <tr>\n",
       "      <th>BILL_AMT1</th>\n",
       "      <td>0.008822</td>\n",
       "    </tr>\n",
       "    <tr>\n",
       "      <th>BILL_AMT3</th>\n",
       "      <td>0.007816</td>\n",
       "    </tr>\n",
       "    <tr>\n",
       "      <th>PAY_AMT3</th>\n",
       "      <td>0.007396</td>\n",
       "    </tr>\n",
       "    <tr>\n",
       "      <th>PAY_AMT2</th>\n",
       "      <td>0.007236</td>\n",
       "    </tr>\n",
       "    <tr>\n",
       "      <th>SEX_2</th>\n",
       "      <td>0.006453</td>\n",
       "    </tr>\n",
       "    <tr>\n",
       "      <th>EDUCATION_3</th>\n",
       "      <td>0.003795</td>\n",
       "    </tr>\n",
       "    <tr>\n",
       "      <th>MARRIAGE_2</th>\n",
       "      <td>0.003700</td>\n",
       "    </tr>\n",
       "    <tr>\n",
       "      <th>PAY_1_1</th>\n",
       "      <td>0.002193</td>\n",
       "    </tr>\n",
       "    <tr>\n",
       "      <th>EDUCATION_2</th>\n",
       "      <td>0.001442</td>\n",
       "    </tr>\n",
       "    <tr>\n",
       "      <th>PAY_1_3</th>\n",
       "      <td>0.001389</td>\n",
       "    </tr>\n",
       "    <tr>\n",
       "      <th>PAY_2_3</th>\n",
       "      <td>0.000735</td>\n",
       "    </tr>\n",
       "    <tr>\n",
       "      <th>PAY_3_3</th>\n",
       "      <td>0.000378</td>\n",
       "    </tr>\n",
       "    <tr>\n",
       "      <th>PAY_2_4</th>\n",
       "      <td>0.000300</td>\n",
       "    </tr>\n",
       "    <tr>\n",
       "      <th>EDUCATION_4</th>\n",
       "      <td>0.000281</td>\n",
       "    </tr>\n",
       "    <tr>\n",
       "      <th>PAY_1_4</th>\n",
       "      <td>0.000252</td>\n",
       "    </tr>\n",
       "    <tr>\n",
       "      <th>MARRIAGE_3</th>\n",
       "      <td>0.000181</td>\n",
       "    </tr>\n",
       "    <tr>\n",
       "      <th>PAY_3_4</th>\n",
       "      <td>0.000141</td>\n",
       "    </tr>\n",
       "    <tr>\n",
       "      <th>PAY_2_1</th>\n",
       "      <td>0.000008</td>\n",
       "    </tr>\n",
       "    <tr>\n",
       "      <th>PAY_3_1</th>\n",
       "      <td>0.000000</td>\n",
       "    </tr>\n",
       "  </tbody>\n",
       "</table>\n",
       "</div>"
      ],
      "text/plain": [
       "             importance\n",
       "TARGET         0.726377\n",
       "AGE            0.067491\n",
       "LIMIT_BAL      0.056230\n",
       "PAY_1_2        0.038511\n",
       "PAY_2_2        0.026147\n",
       "PAY_3_2        0.013618\n",
       "PAY_AMT1       0.009743\n",
       "BILL_AMT2      0.009363\n",
       "BILL_AMT1      0.008822\n",
       "BILL_AMT3      0.007816\n",
       "PAY_AMT3       0.007396\n",
       "PAY_AMT2       0.007236\n",
       "SEX_2          0.006453\n",
       "EDUCATION_3    0.003795\n",
       "MARRIAGE_2     0.003700\n",
       "PAY_1_1        0.002193\n",
       "EDUCATION_2    0.001442\n",
       "PAY_1_3        0.001389\n",
       "PAY_2_3        0.000735\n",
       "PAY_3_3        0.000378\n",
       "PAY_2_4        0.000300\n",
       "EDUCATION_4    0.000281\n",
       "PAY_1_4        0.000252\n",
       "MARRIAGE_3     0.000181\n",
       "PAY_3_4        0.000141\n",
       "PAY_2_1        0.000008\n",
       "PAY_3_1        0.000000"
      ]
     },
     "execution_count": 97,
     "metadata": {},
     "output_type": "execute_result"
    }
   ],
   "source": [
    "feature_imp_randomforest= pd.DataFrame(trainedforest.feature_importances_,index = X_train_full.columns,columns=['importance']).sort_values('importance',ascending=False)\n",
    "pd.set_option('float_format', '{:f}'.format)\n",
    "feature_imp_randomforest"
   ]
  },
  {
   "cell_type": "markdown",
   "metadata": {},
   "source": [
    "Setelah melihat feature important dari random forest, kolom 'PAY_2_1' dan 'PAY_3_1' memiliki nilai improtance yang jauh kecil dibandingkan dengan fitur lainnya. Maka dari itu, kita hilangkan kolom tersebut yang tidak digunakan."
   ]
  },
  {
   "cell_type": "code",
   "execution_count": 127,
   "metadata": {},
   "outputs": [],
   "source": [
    "df_rf = df1_train.drop(['PAY_3_1', 'PAY_2_1'], axis=1)"
   ]
  },
  {
   "cell_type": "code",
   "execution_count": 128,
   "metadata": {},
   "outputs": [],
   "source": [
    "X_rf = df_rf\n",
    "y_rf = df_rf.TARGET\n",
    "\n",
    "X_train_rf, X_test_rf, y_train_rf, y_test_rf = train_test_split(X_rf, y_rf, test_size=0.2)"
   ]
  },
  {
   "cell_type": "code",
   "execution_count": 129,
   "metadata": {},
   "outputs": [
    {
     "name": "stdout",
     "output_type": "stream",
     "text": [
      "             precision    recall  f1-score   support\n",
      "\n",
      "        0.0       1.00      1.00      1.00      1976\n",
      "        1.0       1.00      1.00      1.00      1331\n",
      "\n",
      "avg / total       1.00      1.00      1.00      3307\n",
      "\n"
     ]
    }
   ],
   "source": [
    "trainedforest = RandomForestClassifier(n_estimators=700).fit(X_train_rf,y_train_rf)\n",
    "predictionforest = trainedforest.predict(X_test_rf)\n",
    "print(classification_report(y_test_rf, predictionforest))"
   ]
  },
  {
   "cell_type": "code",
   "execution_count": 130,
   "metadata": {},
   "outputs": [
    {
     "name": "stdout",
     "output_type": "stream",
     "text": [
      "1.0\n"
     ]
    }
   ],
   "source": [
    "acc_rf_drop = roc_auc_score(y_test_rf, predictionforest)\n",
    "print(acc_rf_drop)"
   ]
  },
  {
   "cell_type": "markdown",
   "metadata": {},
   "source": [
    "## 4. Kesimpulan"
   ]
  },
  {
   "cell_type": "markdown",
   "metadata": {},
   "source": [
    "### 4.1 Hasil Model"
   ]
  },
  {
   "cell_type": "code",
   "execution_count": 131,
   "metadata": {},
   "outputs": [
    {
     "data": {
      "text/html": [
       "<div>\n",
       "<style scoped>\n",
       "    .dataframe tbody tr th:only-of-type {\n",
       "        vertical-align: middle;\n",
       "    }\n",
       "\n",
       "    .dataframe tbody tr th {\n",
       "        vertical-align: top;\n",
       "    }\n",
       "\n",
       "    .dataframe thead th {\n",
       "        text-align: right;\n",
       "    }\n",
       "</style>\n",
       "<table border=\"1\" class=\"dataframe\">\n",
       "  <thead>\n",
       "    <tr style=\"text-align: right;\">\n",
       "      <th></th>\n",
       "      <th>Algo</th>\n",
       "      <th>AUC</th>\n",
       "    </tr>\n",
       "  </thead>\n",
       "  <tbody>\n",
       "    <tr>\n",
       "      <th>2</th>\n",
       "      <td>Random Forest</td>\n",
       "      <td>1.000000</td>\n",
       "    </tr>\n",
       "    <tr>\n",
       "      <th>3</th>\n",
       "      <td>Random Forest w/ feature selection</td>\n",
       "      <td>1.000000</td>\n",
       "    </tr>\n",
       "    <tr>\n",
       "      <th>0</th>\n",
       "      <td>LR w/ feature selection</td>\n",
       "      <td>0.650612</td>\n",
       "    </tr>\n",
       "    <tr>\n",
       "      <th>1</th>\n",
       "      <td>SVM</td>\n",
       "      <td>0.521928</td>\n",
       "    </tr>\n",
       "  </tbody>\n",
       "</table>\n",
       "</div>"
      ],
      "text/plain": [
       "                                 Algo      AUC\n",
       "2                       Random Forest 1.000000\n",
       "3  Random Forest w/ feature selection 1.000000\n",
       "0             LR w/ feature selection 0.650612\n",
       "1                                 SVM 0.521928"
      ]
     },
     "execution_count": 131,
     "metadata": {},
     "output_type": "execute_result"
    }
   ],
   "source": [
    "data = {'Algo':['LR w/ feature selection', 'SVM', 'Random Forest', 'Random Forest w/ feature selection'],'AUC':[acc_lr,acc_svm,acc_rf,acc_rf_drop]}\n",
    "df_eval = pd.DataFrame(data)\n",
    "df_eval = df_eval[['Algo','AUC']]\n",
    "df_eval.sort_values(by=['AUC'],ascending=False)"
   ]
  },
  {
   "cell_type": "markdown",
   "metadata": {},
   "source": [
    "### 4.2 Kesimpulan"
   ]
  },
  {
   "cell_type": "markdown",
   "metadata": {},
   "source": [
    "Algoritma Random Forest menggunakan seleksi fitur menghasilkan nilai yang AUC yang sempurna. Ini terjadi kemungkinan karena kesalahan dalam pemilihan fitur atau memang model terlalu fit kepada data. Maka algoritma yang paling mungkin digunakan adalah Logistic Reggresion with feature selection yang memiliki nilai AUC yang tertinggi dibandingkan 3 algoritma lainnya. "
   ]
  }
 ],
 "metadata": {
  "kernelspec": {
   "display_name": "Python 3",
   "language": "python",
   "name": "python3"
  },
  "language_info": {
   "codemirror_mode": {
    "name": "ipython",
    "version": 3
   },
   "file_extension": ".py",
   "mimetype": "text/x-python",
   "name": "python",
   "nbconvert_exporter": "python",
   "pygments_lexer": "ipython3",
   "version": "3.6.4"
  }
 },
 "nbformat": 4,
 "nbformat_minor": 2
}
